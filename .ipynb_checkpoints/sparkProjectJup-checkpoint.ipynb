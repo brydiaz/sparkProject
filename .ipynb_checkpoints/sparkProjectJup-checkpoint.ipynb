{
 "cells": [
  {
   "cell_type": "markdown",
   "id": "3b159750",
   "metadata": {},
   "source": [
    "# Desarrollo del tercer proyecto de bases de datos II: Big Data & Spark"
   ]
  },
  {
   "cell_type": "markdown",
   "id": "1d08e29d",
   "metadata": {},
   "source": [
    "## Requerimientos Previos"
   ]
  },
  {
   "cell_type": "markdown",
   "id": "da60bf9a",
   "metadata": {},
   "source": [
    "Para replicar los experimentos acá tratados se debe contar con los siguientes programas y requisitos:\n",
    "\n",
    "    - Sistema Operativo Linux\n",
    "    - Python3\n",
    "    - Jupyter \n",
    "    - PySpark\n",
    "    - Scale\n",
    "    - Java (JDK)\n",
    "    - Openpyxl"
   ]
  },
  {
   "cell_type": "markdown",
   "id": "bf62ed34",
   "metadata": {},
   "source": [
    "## Imports"
   ]
  },
  {
   "cell_type": "markdown",
   "id": "b00dc532",
   "metadata": {},
   "source": [
    "Para el desarrollo de este proyecto se hará uso de las librerías pandas como auxliar y el framework Spark por lo tanto hacemos los imports y variables de configuracion globales"
   ]
  },
  {
   "cell_type": "code",
   "execution_count": 2,
   "id": "2b208461",
   "metadata": {},
   "outputs": [],
   "source": [
    "import pandas as pd\n",
    "import pyspark\n",
    "from pyspark.sql.types import *"
   ]
  },
  {
   "cell_type": "code",
   "execution_count": 36,
   "id": "4a466097",
   "metadata": {},
   "outputs": [],
   "source": [
    "from pyspark.sql import SparkSession, Row, dataframe\n",
    "from pyspark.sql.functions import lower, col"
   ]
  },
  {
   "cell_type": "code",
   "execution_count": 4,
   "id": "b7879caf",
   "metadata": {
    "scrolled": false
   },
   "outputs": [],
   "source": [
    "import findspark\n",
    "SPARK_PATH = '/home/bryan/spark'\n",
    "findspark.init(SPARK_PATH)\n",
    "\n",
    "POSTGRESQL_URL = \"jdbc:postgresql://localhost/\"\n",
    "POSTGRESQL_USER = \"postgres\"\n",
    "POSTGRESQL_PASSWORD = \"root\""
   ]
  },
  {
   "cell_type": "markdown",
   "id": "a63176f2",
   "metadata": {},
   "source": [
    "## Conexión con Spark"
   ]
  },
  {
   "cell_type": "markdown",
   "id": "538a94dd",
   "metadata": {},
   "source": [
    "Se construye el metodo que nos permite hacer conexión con Spark, no recibe pero retorna un objeto de tipo SparkSession el cual usaremos para trabajar con Spark"
   ]
  },
  {
   "cell_type": "code",
   "execution_count": 5,
   "id": "3c5d953b",
   "metadata": {},
   "outputs": [],
   "source": [
    "def sparkSession():\n",
    "    \"\"\"\n",
    "    This function builds a Spark Session\n",
    "    return the main entry of a Spark DataFrame\n",
    "    \"\"\"\n",
    "    spark = SparkSession \\\n",
    "      .builder \\\n",
    "      .appName(\"Test\") \\\n",
    "      .config(\"spark.driver.extraClassPath\", \"postgresql-42.1.4.jar\") \\\n",
    "      .config(\"spark.executor.extraClassPath\", \"postgresql-42.1.4.jar\") \\\n",
    "      .getOrCreate()\n",
    "    return spark"
   ]
  },
  {
   "cell_type": "code",
   "execution_count": 6,
   "id": "15d5a9df",
   "metadata": {},
   "outputs": [],
   "source": [
    "spark = sparkSession()#Definimos el objeto Spark"
   ]
  },
  {
   "cell_type": "code",
   "execution_count": 7,
   "id": "2f4875de",
   "metadata": {
    "scrolled": true
   },
   "outputs": [
    {
     "name": "stdout",
     "output_type": "stream",
     "text": [
      "<pyspark.sql.session.SparkSession object at 0x7f3e24008700>\n"
     ]
    }
   ],
   "source": [
    "print(spark) #Si imprime bien, la conexion es exitosa"
   ]
  },
  {
   "cell_type": "markdown",
   "id": "15a0861e",
   "metadata": {},
   "source": [
    "## Obtencion de los datos y conversión a DataFrame de Spark"
   ]
  },
  {
   "cell_type": "markdown",
   "id": "bc469876",
   "metadata": {},
   "source": [
    "Por medio de pandas se contacta a los archivos con los datos, y despues creamos los datas frames con Spark"
   ]
  },
  {
   "cell_type": "code",
   "execution_count": 15,
   "id": "6e056683",
   "metadata": {},
   "outputs": [],
   "source": [
    "df = pd.read_excel('Estadisticas.xlsx', engine='openpyxl') #Se lee el xlsx con pandas\n",
    "oijEstadistics = spark.createDataFrame(df) #Se convierte a dataFrame\n",
    "\n",
    "#Se define une esquema para decirle a Spark como debe leer los datos del xlsx\n",
    "mySchema = StructType([StructField(\"Distrito\", StringType(), True)\\\n",
    "                      ,StructField(\"Poblacion\", StringType(), True)\\\n",
    "                      ,StructField(\"TasaParticipacion\", StringType(), True)\\\n",
    "                      ,StructField(\"TasaOcupacion\", StringType(), True)\\\n",
    "                      ,StructField(\"TasaDesempleo\", StringType(), True)\\\n",
    "                      ,StructField(\"PorcentajeEconomicamenteInactiva\", DoubleType(), True)\\\n",
    "                      ,StructField(\"RelacionDependenciaEconomica\", DoubleType(), True)\\\n",
    "                      ,StructField(\"SectorPrimario\", StringType(), True)\\\n",
    "                      ,StructField(\"SectorSecundario\", StringType(), True)\\\n",
    "                      ,StructField(\"SectorTerciario\", StringType(), True)])\n",
    "\n",
    "df = pd.read_excel('INECEstadisticas.xlsx', engine='openpyxl') #Se lee el xlsx con pandas\n",
    "inecEstadistics = spark.createDataFrame(df,schema=mySchema)#Se convierte a dataFrame\n"
   ]
  },
  {
   "cell_type": "markdown",
   "id": "42287dcb",
   "metadata": {},
   "source": [
    "Como prueba de la obtención de los datos mostramos el estados de los dataFrames"
   ]
  },
  {
   "cell_type": "code",
   "execution_count": 16,
   "id": "f4ce35c3",
   "metadata": {
    "scrolled": true
   },
   "outputs": [
    {
     "name": "stdout",
     "output_type": "stream",
     "text": [
      "+------+-----------+----------+-------------------+-----------+--------------------+-------------+------+------------+----------+------------+----------------+\n",
      "|Delito|  SubDelito|     Fecha|               Hora|    Victima|          SubVictima|         Edad|Genero|Nacionalidad| Provincia|      Canton|        Distrito|\n",
      "+------+-----------+----------+-------------------+-----------+--------------------+-------------+------+------------+----------+------------+----------------+\n",
      "|ASALTO|ARMA BLANCA|2021-01-03|06:00:00 - 08:59:59|EDIFICACION|PANADERIA [EDIFIC...|Mayor de edad| MUJER|  COSTA RICA|  ALAJUELA|       UPALA|         BIJAGUA|\n",
      "|ASALTO|ARMA BLANCA|2021-01-02|06:00:00 - 08:59:59|   VIVIENDA|NO APLICA [VIVIENDA]|Mayor de edad| MUJER|  COSTA RICA|     LIMON|       LIMON|          MATAMA|\n",
      "|ASALTO|ARMA BLANCA|2021-01-07|12:00:00 - 14:59:59|    PERSONA|    PEATON [PERSONA]|Mayor de edad| MUJER|  COSTA RICA|  SAN JOSE|    SAN JOSE|        HOSPITAL|\n",
      "|ASALTO|ARMA BLANCA|2021-01-08|03:00:00 - 05:59:59|    PERSONA|OTRO O INDETERMIN...|Mayor de edad|HOMBRE|  COSTA RICA|     LIMON|     GUACIMO|     RIO JIMENEZ|\n",
      "|ASALTO|ARMA BLANCA|2021-01-11|12:00:00 - 14:59:59|   VEHICULO|OTRO O INDETERMIN...|Menor de edad|HOMBRE|  COSTA RICA|  SAN JOSE|    SAN JOSE|   SAN SEBASTIAN|\n",
      "|ASALTO|ARMA BLANCA|2021-01-11|12:00:00 - 14:59:59|    PERSONA|    PEATON [PERSONA]|Mayor de edad|HOMBRE|      ESPANA|PUNTARENAS|         OSA|           DRAKE|\n",
      "|ASALTO|ARMA BLANCA|2021-01-12|21:00:00 - 23:59:59|    PERSONA|    PEATON [PERSONA]|Mayor de edad|HOMBRE|  COSTA RICA|PUNTARENAS|     GOLFITO|        GUAYCARA|\n",
      "|ASALTO|ARMA BLANCA|2021-01-14|06:00:00 - 08:59:59|    PERSONA|    PEATON [PERSONA]|Mayor de edad|HOMBRE|  COSTA RICA|     LIMON|   SIQUIRRES|           CAIRO|\n",
      "|ASALTO|ARMA BLANCA|2021-01-14|06:00:00 - 08:59:59|    PERSONA|    PEATON [PERSONA]|Mayor de edad|HOMBRE|  COSTA RICA|  SAN JOSE|    SAN JOSE|           PAVAS|\n",
      "|ASALTO|ARMA BLANCA|2021-01-15|00:00:00 - 02:59:59|    PERSONA|    PEATON [PERSONA]|Mayor de edad|HOMBRE|  COSTA RICA|  SAN JOSE|    SAN JOSE|        HOSPITAL|\n",
      "|ASALTO|ARMA BLANCA|2021-01-15|18:00:00 - 20:59:59|EDIFICACION|SALA DE BELLEZA [...|Mayor de edad|HOMBRE|   NICARAGUA|GUANACASTE|    CARRILLO|      FILADELFIA|\n",
      "|ASALTO|ARMA BLANCA|2021-01-17|09:00:00 - 11:59:59|    PERSONA|    PEATON [PERSONA]|Mayor de edad| MUJER|  COSTA RICA|  SAN JOSE|    SAN JOSE|        CATEDRAL|\n",
      "|ASALTO|ARMA BLANCA|2021-01-18|21:00:00 - 23:59:59|    PERSONA|    PEATON [PERSONA]|Mayor de edad|HOMBRE|   NICARAGUA|  SAN JOSE|    SAN JOSE|        HOSPITAL|\n",
      "|ASALTO|ARMA BLANCA|2021-01-19|15:00:00 - 17:59:59|    PERSONA|    PEATON [PERSONA]|Mayor de edad| MUJER|  COSTA RICA|  SAN JOSE|  GOICOECHEA|   SAN FRANCISCO|\n",
      "|ASALTO|ARMA BLANCA|2021-01-19|18:00:00 - 20:59:59|    PERSONA|    PEATON [PERSONA]|Mayor de edad| MUJER|  COSTA RICA|  SAN JOSE|DESAMPARADOS|SAN RAFAEL ABAJO|\n",
      "|ASALTO|ARMA BLANCA|2021-01-22|03:00:00 - 05:59:59|    PERSONA|    PEATON [PERSONA]|Mayor de edad|HOMBRE|   NICARAGUA|  SAN JOSE|  GOICOECHEA|   SAN FRANCISCO|\n",
      "|ASALTO|ARMA BLANCA|2021-01-23|06:00:00 - 08:59:59|    PERSONA|    PEATON [PERSONA]|Mayor de edad|HOMBRE|  COSTA RICA|  SAN JOSE|DESAMPARADOS|    DESAMPARADOS|\n",
      "|ASALTO|ARMA BLANCA|2021-01-27|18:00:00 - 20:59:59|    PERSONA|OTRO O INDETERMIN...|Mayor de edad|HOMBRE|  COSTA RICA|PUNTARENAS|  PUNTARENAS|          COBANO|\n",
      "|ASALTO|ARMA BLANCA|2021-01-15|12:00:00 - 14:59:59|    PERSONA|    PEATON [PERSONA]|Mayor de edad|HOMBRE|  COSTA RICA|  SAN JOSE|    SAN JOSE|        HOSPITAL|\n",
      "|ASALTO|ARMA BLANCA|2021-02-05|18:00:00 - 20:59:59|EDIFICACION|FARMACIA [EDIFICA...|Mayor de edad| MUJER|  COSTA RICA|   CARTAGO|    OREAMUNO|      SAN RAFAEL|\n",
      "+------+-----------+----------+-------------------+-----------+--------------------+-------------+------+------------+----------+------------+----------------+\n",
      "only showing top 20 rows\n",
      "\n",
      "+--------------------+---------+-----------------+----------------+----------------+--------------------------------+----------------------------+-----------------+----------------+----------------+\n",
      "|            Distrito|Poblacion|TasaParticipacion|   TasaOcupacion|   TasaDesempleo|PorcentajeEconomicamenteInactiva|RelacionDependenciaEconomica|   SectorPrimario|SectorSecundario| SectorTerciario|\n",
      "+--------------------+---------+-----------------+----------------+----------------+--------------------------------+----------------------------+-----------------+----------------+----------------+\n",
      "|         Costa Rica |3233882.0|  53.479687879768|51.6602646602443|3.40208271898327|                 46.520312120232|             1.4873007337508| 13.8558940568599|17.8987951864923|68.2453107566478|\n",
      "|                 NaN|      NaN|              NaN|             NaN|             NaN|                             NaN|                         NaN|              NaN|             NaN|             NaN|\n",
      "|            San José|1087315.0| 56.0236913865807| 54.076325627808|3.47596831014817|                43.9763086134193|            1.30523315943095| 5.46974386883908|17.2941256505323|77.2361304806286|\n",
      "|                 NaN|      NaN|              NaN|             NaN|             NaN|                             NaN|                         NaN|              NaN|             NaN|             NaN|\n",
      "|            San José| 225856.0| 56.7082565882686| 54.477189005384|3.93429055504806|                43.2917434117314|             1.2490337994519|0.653446033810143|18.9060468140442|80.4405071521456|\n",
      "|                 NaN|      NaN|              NaN|             NaN|             NaN|                             NaN|                         NaN|              NaN|             NaN|             NaN|\n",
      "|   Carmen           |   2431.0| 56.3142739613328|54.7922665569724| 2.7027027027027|                43.6857260386672|           0.973703433162893| 1.57657657657658|8.70870870870871|89.7147147147147|\n",
      "|     Merced         |   9655.0|  59.243915069912|56.9963749352667|3.79370629370629|                 40.756084930088|            1.14283216783217|0.835907686716337|18.2627657641287| 80.901326549155|\n",
      "|  Hospital          |  15096.0| 56.4255431902491|53.9281928987811|4.42592157783517|                43.5744568097509|            1.26226813806058|0.466773123694878|18.6217909347746|80.9114359415305|\n",
      "|  Catedral          |  10742.0| 59.0113572891454|57.0284863153975|3.36015144344534|                40.9886427108546|            1.04070042593469|0.457068233757754|14.5935357492654|84.9493960169768|\n",
      "|    Zapote          |  15545.0| 55.6770665808942|54.0495336120939|2.92316580011554|                44.3229334191058|            1.15817446562681|0.606998333730064|13.7467269697691|85.6462746965008|\n",
      "|San Francisco de ...|  16895.0| 57.4252737496301|56.0816809707014| 2.3397237682952|                42.5747262503699|            1.08297258297258|0.517150395778364|13.0131926121372|86.4696569920844|\n",
      "|   Uruca            |  22717.0| 59.0306818682044|56.6492054408593|4.03430275913497|                40.9693181317956|            1.36599552572707|0.994638278032481|29.0620871862616| 69.943274535706|\n",
      "|  Mata Redonda      |   7077.0| 54.0200649992935|52.1689981630634|3.42662830238033|                45.9799350007065|            1.17447031127387| 1.13759479956663|11.7280606717226|87.1343445287107|\n",
      "|   Pavas            |  54510.0| 56.3199412951752|53.9350577875619|4.23452768729642|                43.6800587048248|            1.32521172638436| 0.73469387755102|23.7619047619048|75.5034013605442|\n",
      "|  Hatillo           |  39555.0| 54.7263304259891|52.2184300341297|4.58262114842703|                45.2736695740109|            1.33339492770361|0.450254175744372|16.3834422657952|83.1663035584604|\n",
      "|  San Sebastián     |  31633.0| 57.5222078209465|55.1481048272374|4.12728072103759|                42.4777921790535|            1.20185755111013|0.527371739753511|16.0504442533677|83.4221840068788|\n",
      "|                 NaN|      NaN|              NaN|             NaN|             NaN|                             NaN|                         NaN|              NaN|             NaN|             NaN|\n",
      "|              Escazú|  44797.0| 60.7094225059714|58.8655490323013|3.03721135461097|                39.2905774940286|            1.07784232975438| 2.54835039817975|16.7159651118696|80.7356844899507|\n",
      "|                 NaN|      NaN|              NaN|             NaN|             NaN|                             NaN|                         NaN|              NaN|             NaN|             NaN|\n",
      "+--------------------+---------+-----------------+----------------+----------------+--------------------------------+----------------------------+-----------------+----------------+----------------+\n",
      "only showing top 20 rows\n",
      "\n"
     ]
    }
   ],
   "source": [
    "oijEstadistics.show()\n",
    "inecEstadistics.show()"
   ]
  },
  {
   "cell_type": "markdown",
   "id": "e8cd373c",
   "metadata": {},
   "source": [
    "## Integración de los datos"
   ]
  },
  {
   "cell_type": "markdown",
   "id": "c0434abe",
   "metadata": {},
   "source": [
    "Antes de poder realizar la integración se debe hacer un procesamiento de los datos de forma que al unir ambos, sea mucho más sencillo"
   ]
  },
  {
   "cell_type": "markdown",
   "id": "7892f30d",
   "metadata": {},
   "source": [
    "### Eliminar espacios en blanco"
   ]
  },
  {
   "cell_type": "markdown",
   "id": "aa7dd4ab",
   "metadata": {},
   "source": [
    "Si revisamos los datos del INEC asociados a este programa veremos que se genera archivos de tipo nulo, entonces crearemos una función que se encargue de eliminarlos, recibirá el dataframe a actualizar y le filtrá, si en la columna Distrito hay un nulo, le eliminará"
   ]
  },
  {
   "cell_type": "code",
   "execution_count": 31,
   "id": "2afe2168",
   "metadata": {},
   "outputs": [],
   "source": [
    "def deleteBlankSpaces(df):\n",
    "    ndf = df.select('Distrito','Poblacion','TasaParticipacion','TasaOcupacion','TasaDesempleo',\n",
    "                   'PorcentajeEconomicamenteInactiva','RelacionDependenciaEconomica', 'SectorPrimario', 'SectorSecundario',\n",
    "                   'SectorTerciario').filter(df.Distrito != \"NaN\")\n",
    "    return ndf"
   ]
  },
  {
   "cell_type": "code",
   "execution_count": 44,
   "id": "fadec148",
   "metadata": {
    "scrolled": true
   },
   "outputs": [
    {
     "name": "stdout",
     "output_type": "stream",
     "text": [
      "+--------------------+---------+-----------------+----------------+----------------+--------------------------------+----------------------------+-----------------+----------------+----------------+\n",
      "|            Distrito|Poblacion|TasaParticipacion|   TasaOcupacion|   TasaDesempleo|PorcentajeEconomicamenteInactiva|RelacionDependenciaEconomica|   SectorPrimario|SectorSecundario| SectorTerciario|\n",
      "+--------------------+---------+-----------------+----------------+----------------+--------------------------------+----------------------------+-----------------+----------------+----------------+\n",
      "|         costa rica |3233882.0|  53.479687879768|51.6602646602443|3.40208271898327|                 46.520312120232|             1.4873007337508| 13.8558940568599|17.8987951864923|68.2453107566478|\n",
      "|            san josé|1087315.0| 56.0236913865807| 54.076325627808|3.47596831014817|                43.9763086134193|            1.30523315943095| 5.46974386883908|17.2941256505323|77.2361304806286|\n",
      "|            san josé| 225856.0| 56.7082565882686| 54.477189005384|3.93429055504806|                43.2917434117314|             1.2490337994519|0.653446033810143|18.9060468140442|80.4405071521456|\n",
      "|   carmen           |   2431.0| 56.3142739613328|54.7922665569724| 2.7027027027027|                43.6857260386672|           0.973703433162893| 1.57657657657658|8.70870870870871|89.7147147147147|\n",
      "|     merced         |   9655.0|  59.243915069912|56.9963749352667|3.79370629370629|                 40.756084930088|            1.14283216783217|0.835907686716337|18.2627657641287| 80.901326549155|\n",
      "|  hospital          |  15096.0| 56.4255431902491|53.9281928987811|4.42592157783517|                43.5744568097509|            1.26226813806058|0.466773123694878|18.6217909347746|80.9114359415305|\n",
      "|  catedral          |  10742.0| 59.0113572891454|57.0284863153975|3.36015144344534|                40.9886427108546|            1.04070042593469|0.457068233757754|14.5935357492654|84.9493960169768|\n",
      "|    zapote          |  15545.0| 55.6770665808942|54.0495336120939|2.92316580011554|                44.3229334191058|            1.15817446562681|0.606998333730064|13.7467269697691|85.6462746965008|\n",
      "|san francisco de ...|  16895.0| 57.4252737496301|56.0816809707014| 2.3397237682952|                42.5747262503699|            1.08297258297258|0.517150395778364|13.0131926121372|86.4696569920844|\n",
      "|   uruca            |  22717.0| 59.0306818682044|56.6492054408593|4.03430275913497|                40.9693181317956|            1.36599552572707|0.994638278032481|29.0620871862616| 69.943274535706|\n",
      "|  mata redonda      |   7077.0| 54.0200649992935|52.1689981630634|3.42662830238033|                45.9799350007065|            1.17447031127387| 1.13759479956663|11.7280606717226|87.1343445287107|\n",
      "|   pavas            |  54510.0| 56.3199412951752|53.9350577875619|4.23452768729642|                43.6800587048248|            1.32521172638436| 0.73469387755102|23.7619047619048|75.5034013605442|\n",
      "|  hatillo           |  39555.0| 54.7263304259891|52.2184300341297|4.58262114842703|                45.2736695740109|            1.33339492770361|0.450254175744372|16.3834422657952|83.1663035584604|\n",
      "|  san sebastián     |  31633.0| 57.5222078209465|55.1481048272374|4.12728072103759|                42.4777921790535|            1.20185755111013|0.527371739753511|16.0504442533677|83.4221840068788|\n",
      "|              escazú|  44797.0| 60.7094225059714|58.8655490323013|3.03721135461097|                39.2905774940286|            1.07784232975438| 2.54835039817975|16.7159651118696|80.7356844899507|\n",
      "|  escazú            |   9580.0|  58.705636743215|56.6910229645094|3.43172119487909|                 41.294363256785|            1.13086770981508| 1.62032774811269|15.7061314675014|82.6735407843859|\n",
      "|  san antonio       |  17544.0| 60.5734154126767|  58.74943000456|3.01119789216148|                39.4265845873233|            1.12232991436906| 3.79353837198021|18.5796060929465|77.6268555350733|\n",
      "|  san rafael        |  17673.0| 61.9306286425621| 60.159565438805|2.85975331201462|                38.0693713574379|            1.00740063956144| 1.81527464258841|15.4251316779534|82.7595936794583|\n",
      "|        desamparados| 159292.0| 56.9890515531226| 54.706451045878| 4.0053316295619|                43.0109484468774|             1.2958062988136| 2.21475046762218|19.5701318522429| 78.215117680135|\n",
      "|  desamparados      |  26951.0| 59.2668175577901|56.4097807131461|4.82063482126088|                40.7331824422099|            1.12020284229638|0.532789581003749|14.9575741629941|84.5096362560021|\n",
      "+--------------------+---------+-----------------+----------------+----------------+--------------------------------+----------------------------+-----------------+----------------+----------------+\n",
      "only showing top 20 rows\n",
      "\n"
     ]
    }
   ],
   "source": [
    "inecEstadistics = deleteBlankSpaces(inecEstadistics) #Solo se hace para la del INEC, debido a que el OIJ no tiene nuls\n",
    "inecEstadistics.show(20)"
   ]
  },
  {
   "cell_type": "markdown",
   "id": "f5320f68",
   "metadata": {},
   "source": [
    "Como se ve, los espacios blancos han sido eliminados"
   ]
  },
  {
   "cell_type": "markdown",
   "id": "baef3fe4",
   "metadata": {},
   "source": [
    "### Convertir a minusculas"
   ]
  },
  {
   "cell_type": "markdown",
   "id": "94a9743d",
   "metadata": {},
   "source": [
    "Como motivo de aseguarnos que los registros de amhas fuentes de datos coincidan, lo mejor es manejar un estandar por lo que se buscará crear una funcion que recibe el dataframe y la eleccion que se desea cambiar y retornará un Data Frame actualizado o -1 en caso de error"
   ]
  },
  {
   "cell_type": "code",
   "execution_count": 41,
   "id": "c2372725",
   "metadata": {},
   "outputs": [],
   "source": [
    "def toMinus(df, choice):\n",
    "    ndf = -1\n",
    "    if choice == 1:\n",
    "        ndf = inecEstadistics.select(lower(col('Distrito')).alias('Distrito'),'Poblacion','TasaParticipacion','TasaOcupacion','TasaDesempleo',\n",
    "                   'PorcentajeEconomicamenteInactiva','RelacionDependenciaEconomica', 'SectorPrimario', 'SectorSecundario',\n",
    "                   'SectorTerciario')\n",
    "    elif choice == 2:\n",
    "        ndf = oijEstadistics.select('Delito','SubDelito','Fecha','Hora'\n",
    "                      ,'Victima','SubVictima','Edad'\n",
    "                      ,'Genero','Nacionalidad','Provincia'\n",
    "                      ,'Canton',lower(col('Distrito')).alias('Distrito'))\n",
    "    return ndf"
   ]
  },
  {
   "cell_type": "code",
   "execution_count": 43,
   "id": "2bbf53bc",
   "metadata": {},
   "outputs": [
    {
     "name": "stdout",
     "output_type": "stream",
     "text": [
      "+--------------------+---------+-----------------+----------------+----------------+--------------------------------+----------------------------+-----------------+----------------+----------------+\n",
      "|            Distrito|Poblacion|TasaParticipacion|   TasaOcupacion|   TasaDesempleo|PorcentajeEconomicamenteInactiva|RelacionDependenciaEconomica|   SectorPrimario|SectorSecundario| SectorTerciario|\n",
      "+--------------------+---------+-----------------+----------------+----------------+--------------------------------+----------------------------+-----------------+----------------+----------------+\n",
      "|         costa rica |3233882.0|  53.479687879768|51.6602646602443|3.40208271898327|                 46.520312120232|             1.4873007337508| 13.8558940568599|17.8987951864923|68.2453107566478|\n",
      "|            san josé|1087315.0| 56.0236913865807| 54.076325627808|3.47596831014817|                43.9763086134193|            1.30523315943095| 5.46974386883908|17.2941256505323|77.2361304806286|\n",
      "|            san josé| 225856.0| 56.7082565882686| 54.477189005384|3.93429055504806|                43.2917434117314|             1.2490337994519|0.653446033810143|18.9060468140442|80.4405071521456|\n",
      "|   carmen           |   2431.0| 56.3142739613328|54.7922665569724| 2.7027027027027|                43.6857260386672|           0.973703433162893| 1.57657657657658|8.70870870870871|89.7147147147147|\n",
      "|     merced         |   9655.0|  59.243915069912|56.9963749352667|3.79370629370629|                 40.756084930088|            1.14283216783217|0.835907686716337|18.2627657641287| 80.901326549155|\n",
      "|  hospital          |  15096.0| 56.4255431902491|53.9281928987811|4.42592157783517|                43.5744568097509|            1.26226813806058|0.466773123694878|18.6217909347746|80.9114359415305|\n",
      "|  catedral          |  10742.0| 59.0113572891454|57.0284863153975|3.36015144344534|                40.9886427108546|            1.04070042593469|0.457068233757754|14.5935357492654|84.9493960169768|\n",
      "|    zapote          |  15545.0| 55.6770665808942|54.0495336120939|2.92316580011554|                44.3229334191058|            1.15817446562681|0.606998333730064|13.7467269697691|85.6462746965008|\n",
      "|san francisco de ...|  16895.0| 57.4252737496301|56.0816809707014| 2.3397237682952|                42.5747262503699|            1.08297258297258|0.517150395778364|13.0131926121372|86.4696569920844|\n",
      "|   uruca            |  22717.0| 59.0306818682044|56.6492054408593|4.03430275913497|                40.9693181317956|            1.36599552572707|0.994638278032481|29.0620871862616| 69.943274535706|\n",
      "|  mata redonda      |   7077.0| 54.0200649992935|52.1689981630634|3.42662830238033|                45.9799350007065|            1.17447031127387| 1.13759479956663|11.7280606717226|87.1343445287107|\n",
      "|   pavas            |  54510.0| 56.3199412951752|53.9350577875619|4.23452768729642|                43.6800587048248|            1.32521172638436| 0.73469387755102|23.7619047619048|75.5034013605442|\n",
      "|  hatillo           |  39555.0| 54.7263304259891|52.2184300341297|4.58262114842703|                45.2736695740109|            1.33339492770361|0.450254175744372|16.3834422657952|83.1663035584604|\n",
      "|  san sebastián     |  31633.0| 57.5222078209465|55.1481048272374|4.12728072103759|                42.4777921790535|            1.20185755111013|0.527371739753511|16.0504442533677|83.4221840068788|\n",
      "|              escazú|  44797.0| 60.7094225059714|58.8655490323013|3.03721135461097|                39.2905774940286|            1.07784232975438| 2.54835039817975|16.7159651118696|80.7356844899507|\n",
      "|  escazú            |   9580.0|  58.705636743215|56.6910229645094|3.43172119487909|                 41.294363256785|            1.13086770981508| 1.62032774811269|15.7061314675014|82.6735407843859|\n",
      "|  san antonio       |  17544.0| 60.5734154126767|  58.74943000456|3.01119789216148|                39.4265845873233|            1.12232991436906| 3.79353837198021|18.5796060929465|77.6268555350733|\n",
      "|  san rafael        |  17673.0| 61.9306286425621| 60.159565438805|2.85975331201462|                38.0693713574379|            1.00740063956144| 1.81527464258841|15.4251316779534|82.7595936794583|\n",
      "|        desamparados| 159292.0| 56.9890515531226| 54.706451045878| 4.0053316295619|                43.0109484468774|             1.2958062988136| 2.21475046762218|19.5701318522429| 78.215117680135|\n",
      "|  desamparados      |  26951.0| 59.2668175577901|56.4097807131461|4.82063482126088|                40.7331824422099|            1.12020284229638|0.532789581003749|14.9575741629941|84.5096362560021|\n",
      "+--------------------+---------+-----------------+----------------+----------------+--------------------------------+----------------------------+-----------------+----------------+----------------+\n",
      "only showing top 20 rows\n",
      "\n",
      "+------+-----------+----------+-------------------+-----------+--------------------+-------------+------+------------+----------+------------+----------------+\n",
      "|Delito|  SubDelito|     Fecha|               Hora|    Victima|          SubVictima|         Edad|Genero|Nacionalidad| Provincia|      Canton|        Distrito|\n",
      "+------+-----------+----------+-------------------+-----------+--------------------+-------------+------+------------+----------+------------+----------------+\n",
      "|ASALTO|ARMA BLANCA|2021-01-03|06:00:00 - 08:59:59|EDIFICACION|PANADERIA [EDIFIC...|Mayor de edad| MUJER|  COSTA RICA|  ALAJUELA|       UPALA|         bijagua|\n",
      "|ASALTO|ARMA BLANCA|2021-01-02|06:00:00 - 08:59:59|   VIVIENDA|NO APLICA [VIVIENDA]|Mayor de edad| MUJER|  COSTA RICA|     LIMON|       LIMON|          matama|\n",
      "|ASALTO|ARMA BLANCA|2021-01-07|12:00:00 - 14:59:59|    PERSONA|    PEATON [PERSONA]|Mayor de edad| MUJER|  COSTA RICA|  SAN JOSE|    SAN JOSE|        hospital|\n",
      "|ASALTO|ARMA BLANCA|2021-01-08|03:00:00 - 05:59:59|    PERSONA|OTRO O INDETERMIN...|Mayor de edad|HOMBRE|  COSTA RICA|     LIMON|     GUACIMO|     rio jimenez|\n",
      "|ASALTO|ARMA BLANCA|2021-01-11|12:00:00 - 14:59:59|   VEHICULO|OTRO O INDETERMIN...|Menor de edad|HOMBRE|  COSTA RICA|  SAN JOSE|    SAN JOSE|   san sebastian|\n",
      "|ASALTO|ARMA BLANCA|2021-01-11|12:00:00 - 14:59:59|    PERSONA|    PEATON [PERSONA]|Mayor de edad|HOMBRE|      ESPANA|PUNTARENAS|         OSA|           drake|\n",
      "|ASALTO|ARMA BLANCA|2021-01-12|21:00:00 - 23:59:59|    PERSONA|    PEATON [PERSONA]|Mayor de edad|HOMBRE|  COSTA RICA|PUNTARENAS|     GOLFITO|        guaycara|\n",
      "|ASALTO|ARMA BLANCA|2021-01-14|06:00:00 - 08:59:59|    PERSONA|    PEATON [PERSONA]|Mayor de edad|HOMBRE|  COSTA RICA|     LIMON|   SIQUIRRES|           cairo|\n",
      "|ASALTO|ARMA BLANCA|2021-01-14|06:00:00 - 08:59:59|    PERSONA|    PEATON [PERSONA]|Mayor de edad|HOMBRE|  COSTA RICA|  SAN JOSE|    SAN JOSE|           pavas|\n",
      "|ASALTO|ARMA BLANCA|2021-01-15|00:00:00 - 02:59:59|    PERSONA|    PEATON [PERSONA]|Mayor de edad|HOMBRE|  COSTA RICA|  SAN JOSE|    SAN JOSE|        hospital|\n",
      "|ASALTO|ARMA BLANCA|2021-01-15|18:00:00 - 20:59:59|EDIFICACION|SALA DE BELLEZA [...|Mayor de edad|HOMBRE|   NICARAGUA|GUANACASTE|    CARRILLO|      filadelfia|\n",
      "|ASALTO|ARMA BLANCA|2021-01-17|09:00:00 - 11:59:59|    PERSONA|    PEATON [PERSONA]|Mayor de edad| MUJER|  COSTA RICA|  SAN JOSE|    SAN JOSE|        catedral|\n",
      "|ASALTO|ARMA BLANCA|2021-01-18|21:00:00 - 23:59:59|    PERSONA|    PEATON [PERSONA]|Mayor de edad|HOMBRE|   NICARAGUA|  SAN JOSE|    SAN JOSE|        hospital|\n",
      "|ASALTO|ARMA BLANCA|2021-01-19|15:00:00 - 17:59:59|    PERSONA|    PEATON [PERSONA]|Mayor de edad| MUJER|  COSTA RICA|  SAN JOSE|  GOICOECHEA|   san francisco|\n",
      "|ASALTO|ARMA BLANCA|2021-01-19|18:00:00 - 20:59:59|    PERSONA|    PEATON [PERSONA]|Mayor de edad| MUJER|  COSTA RICA|  SAN JOSE|DESAMPARADOS|san rafael abajo|\n",
      "|ASALTO|ARMA BLANCA|2021-01-22|03:00:00 - 05:59:59|    PERSONA|    PEATON [PERSONA]|Mayor de edad|HOMBRE|   NICARAGUA|  SAN JOSE|  GOICOECHEA|   san francisco|\n",
      "|ASALTO|ARMA BLANCA|2021-01-23|06:00:00 - 08:59:59|    PERSONA|    PEATON [PERSONA]|Mayor de edad|HOMBRE|  COSTA RICA|  SAN JOSE|DESAMPARADOS|    desamparados|\n",
      "|ASALTO|ARMA BLANCA|2021-01-27|18:00:00 - 20:59:59|    PERSONA|OTRO O INDETERMIN...|Mayor de edad|HOMBRE|  COSTA RICA|PUNTARENAS|  PUNTARENAS|          cobano|\n",
      "|ASALTO|ARMA BLANCA|2021-01-15|12:00:00 - 14:59:59|    PERSONA|    PEATON [PERSONA]|Mayor de edad|HOMBRE|  COSTA RICA|  SAN JOSE|    SAN JOSE|        hospital|\n",
      "|ASALTO|ARMA BLANCA|2021-02-05|18:00:00 - 20:59:59|EDIFICACION|FARMACIA [EDIFICA...|Mayor de edad| MUJER|  COSTA RICA|   CARTAGO|    OREAMUNO|      san rafael|\n",
      "+------+-----------+----------+-------------------+-----------+--------------------+-------------+------+------------+----------+------------+----------------+\n",
      "only showing top 20 rows\n",
      "\n"
     ]
    }
   ],
   "source": [
    "inecEstadistics = toMinus(inecEstadistics, 1)\n",
    "oijEstadistics = toMinus(oijEstadistics,2)\n",
    "\n",
    "inecEstadistics.show()\n",
    "oijEstadistics.show()"
   ]
  },
  {
   "cell_type": "code",
   "execution_count": null,
   "id": "0a5ae814",
   "metadata": {},
   "outputs": [],
   "source": []
  }
 ],
 "metadata": {
  "kernelspec": {
   "display_name": "Python 3",
   "language": "python",
   "name": "python3"
  },
  "language_info": {
   "codemirror_mode": {
    "name": "ipython",
    "version": 3
   },
   "file_extension": ".py",
   "mimetype": "text/x-python",
   "name": "python",
   "nbconvert_exporter": "python",
   "pygments_lexer": "ipython3",
   "version": "3.8.5"
  }
 },
 "nbformat": 4,
 "nbformat_minor": 5
}
