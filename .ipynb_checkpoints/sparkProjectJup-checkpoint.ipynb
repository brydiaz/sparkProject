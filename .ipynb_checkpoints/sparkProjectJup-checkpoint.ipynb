{
 "cells": [
  {
   "cell_type": "markdown",
   "id": "3b159750",
   "metadata": {},
   "source": [
    "# Desarrollo del tercer proyecto de bases de datos II: Big Data & Spark"
   ]
  },
  {
   "cell_type": "markdown",
   "id": "1d08e29d",
   "metadata": {},
   "source": [
    "## Requerimientos Previos"
   ]
  },
  {
   "cell_type": "markdown",
   "id": "da60bf9a",
   "metadata": {},
   "source": [
    "Para replicar los experimentos acá tratados se debe contar con los siguientes programas y requisitos:\n",
    "\n",
    "    - Sistema Operativo Linux\n",
    "    - Python3\n",
    "    - Jupyter \n",
    "    - PySpark\n",
    "    - Scale\n",
    "    - Java (JDK)\n",
    "    - Openpyxl"
   ]
  },
  {
   "cell_type": "markdown",
   "id": "bf62ed34",
   "metadata": {},
   "source": [
    "## Imports"
   ]
  },
  {
   "cell_type": "markdown",
   "id": "b00dc532",
   "metadata": {},
   "source": [
    "Para el desarrollo de este proyecto se hará uso de las librerías pandas como auxliar y el framework Spark por lo tanto hacemos los imports y variables de configuracion globales"
   ]
  },
  {
   "cell_type": "code",
   "execution_count": 1,
   "id": "2b208461",
   "metadata": {},
   "outputs": [],
   "source": [
    "import pandas as pd\n",
    "import pyspark\n",
    "from pyspark.sql.types import *"
   ]
  },
  {
   "cell_type": "code",
   "execution_count": 2,
   "id": "4a466097",
   "metadata": {},
   "outputs": [],
   "source": [
    "from pyspark.sql import SparkSession, Row, dataframe\n",
    "from pyspark.sql.functions import lower, col, trim"
   ]
  },
  {
   "cell_type": "code",
   "execution_count": 3,
   "id": "b7879caf",
   "metadata": {
    "scrolled": false
   },
   "outputs": [],
   "source": [
    "import findspark\n",
    "SPARK_PATH = '/home/bryan/spark'\n",
    "findspark.init(SPARK_PATH)\n",
    "\n",
    "POSTGRESQL_URL = \"jdbc:postgresql://localhost/\"\n",
    "POSTGRESQL_USER = \"postgres\"\n",
    "POSTGRESQL_PASSWORD = \"root\""
   ]
  },
  {
   "cell_type": "markdown",
   "id": "a63176f2",
   "metadata": {},
   "source": [
    "## Conexión con Spark"
   ]
  },
  {
   "cell_type": "markdown",
   "id": "538a94dd",
   "metadata": {},
   "source": [
    "Se construye el metodo que nos permite hacer conexión con Spark, no recibe pero retorna un objeto de tipo SparkSession el cual usaremos para trabajar con Spark"
   ]
  },
  {
   "cell_type": "code",
   "execution_count": 4,
   "id": "3c5d953b",
   "metadata": {},
   "outputs": [],
   "source": [
    "def sparkSession():\n",
    "    \"\"\"\n",
    "    This function builds a Spark Session\n",
    "    return the main entry of a Spark DataFrame\n",
    "    \"\"\"\n",
    "    spark = SparkSession \\\n",
    "      .builder \\\n",
    "      .appName(\"Test\") \\\n",
    "      .config(\"spark.driver.extraClassPath\", \"postgresql-42.1.4.jar\") \\\n",
    "      .config(\"spark.executor.extraClassPath\", \"postgresql-42.1.4.jar\") \\\n",
    "      .getOrCreate()\n",
    "    return spark"
   ]
  },
  {
   "cell_type": "code",
   "execution_count": 5,
   "id": "15d5a9df",
   "metadata": {},
   "outputs": [],
   "source": [
    "spark = sparkSession()#Definimos el objeto Spark"
   ]
  },
  {
   "cell_type": "code",
   "execution_count": 6,
   "id": "2f4875de",
   "metadata": {
    "scrolled": true
   },
   "outputs": [
    {
     "name": "stdout",
     "output_type": "stream",
     "text": [
      "<pyspark.sql.session.SparkSession object at 0x7fb1195d0d00>\n"
     ]
    }
   ],
   "source": [
    "print(spark) #Si imprime bien, la conexion es exitosa"
   ]
  },
  {
   "cell_type": "markdown",
   "id": "15a0861e",
   "metadata": {},
   "source": [
    "## Obtencion de los datos y conversión a DataFrame de Spark"
   ]
  },
  {
   "cell_type": "markdown",
   "id": "bc469876",
   "metadata": {},
   "source": [
    "Por medio de pandas se contacta a los archivos con los datos, y despues creamos los datas frames con Spark"
   ]
  },
  {
   "cell_type": "code",
   "execution_count": 7,
   "id": "6e056683",
   "metadata": {},
   "outputs": [],
   "source": [
    "df = pd.read_excel('Estadisticas.xlsx', engine='openpyxl') #Se lee el xlsx con pandas\n",
    "oijEstadistics = spark.createDataFrame(df) #Se convierte a dataFrame\n",
    "\n",
    "#Se define une esquema para decirle a Spark como debe leer los datos del xlsx\n",
    "mySchema = StructType([StructField(\"Distrito\", StringType(), True)\\\n",
    "                      ,StructField(\"Poblacion\", StringType(), True)\\\n",
    "                      ,StructField(\"TasaParticipacion\", StringType(), True)\\\n",
    "                      ,StructField(\"TasaOcupacion\", StringType(), True)\\\n",
    "                      ,StructField(\"TasaDesempleo\", StringType(), True)\\\n",
    "                      ,StructField(\"PorcentajeEconomicamenteInactiva\", DoubleType(), True)\\\n",
    "                      ,StructField(\"RelacionDependenciaEconomica\", DoubleType(), True)\\\n",
    "                      ,StructField(\"SectorPrimario\", StringType(), True)\\\n",
    "                      ,StructField(\"SectorSecundario\", StringType(), True)\\\n",
    "                      ,StructField(\"SectorTerciario\", StringType(), True)])\n",
    "\n",
    "df = pd.read_excel('INECEstadisticas.xlsx', engine='openpyxl') #Se lee el xlsx con pandas\n",
    "inecEstadistics = spark.createDataFrame(df,schema=mySchema)#Se convierte a dataFrame\n"
   ]
  },
  {
   "cell_type": "markdown",
   "id": "42287dcb",
   "metadata": {},
   "source": [
    "Como prueba de la obtención de los datos mostramos el estados de los dataFrames"
   ]
  },
  {
   "cell_type": "code",
   "execution_count": 8,
   "id": "f4ce35c3",
   "metadata": {
    "scrolled": true
   },
   "outputs": [
    {
     "name": "stdout",
     "output_type": "stream",
     "text": [
      "+------+-----------+----------+-------------------+-----------+--------------------+-------------+------+------------+----------+------------+----------------+\n",
      "|Delito|  SubDelito|     Fecha|               Hora|    Victima|          SubVictima|         Edad|Genero|Nacionalidad| Provincia|      Canton|        Distrito|\n",
      "+------+-----------+----------+-------------------+-----------+--------------------+-------------+------+------------+----------+------------+----------------+\n",
      "|ASALTO|ARMA BLANCA|2021-01-03|06:00:00 - 08:59:59|EDIFICACION|PANADERIA [EDIFIC...|Mayor de edad| MUJER|  COSTA RICA|  ALAJUELA|       UPALA|         BIJAGUA|\n",
      "|ASALTO|ARMA BLANCA|2021-01-02|06:00:00 - 08:59:59|   VIVIENDA|NO APLICA [VIVIENDA]|Mayor de edad| MUJER|  COSTA RICA|     LIMON|       LIMON|          MATAMA|\n",
      "|ASALTO|ARMA BLANCA|2021-01-07|12:00:00 - 14:59:59|    PERSONA|    PEATON [PERSONA]|Mayor de edad| MUJER|  COSTA RICA|  SAN JOSE|    SAN JOSE|        HOSPITAL|\n",
      "|ASALTO|ARMA BLANCA|2021-01-08|03:00:00 - 05:59:59|    PERSONA|OTRO O INDETERMIN...|Mayor de edad|HOMBRE|  COSTA RICA|     LIMON|     GUACIMO|     RIO JIMENEZ|\n",
      "|ASALTO|ARMA BLANCA|2021-01-11|12:00:00 - 14:59:59|   VEHICULO|OTRO O INDETERMIN...|Menor de edad|HOMBRE|  COSTA RICA|  SAN JOSE|    SAN JOSE|   SAN SEBASTIAN|\n",
      "|ASALTO|ARMA BLANCA|2021-01-11|12:00:00 - 14:59:59|    PERSONA|    PEATON [PERSONA]|Mayor de edad|HOMBRE|      ESPANA|PUNTARENAS|         OSA|           DRAKE|\n",
      "|ASALTO|ARMA BLANCA|2021-01-12|21:00:00 - 23:59:59|    PERSONA|    PEATON [PERSONA]|Mayor de edad|HOMBRE|  COSTA RICA|PUNTARENAS|     GOLFITO|        GUAYCARA|\n",
      "|ASALTO|ARMA BLANCA|2021-01-14|06:00:00 - 08:59:59|    PERSONA|    PEATON [PERSONA]|Mayor de edad|HOMBRE|  COSTA RICA|     LIMON|   SIQUIRRES|           CAIRO|\n",
      "|ASALTO|ARMA BLANCA|2021-01-14|06:00:00 - 08:59:59|    PERSONA|    PEATON [PERSONA]|Mayor de edad|HOMBRE|  COSTA RICA|  SAN JOSE|    SAN JOSE|           PAVAS|\n",
      "|ASALTO|ARMA BLANCA|2021-01-15|00:00:00 - 02:59:59|    PERSONA|    PEATON [PERSONA]|Mayor de edad|HOMBRE|  COSTA RICA|  SAN JOSE|    SAN JOSE|        HOSPITAL|\n",
      "|ASALTO|ARMA BLANCA|2021-01-15|18:00:00 - 20:59:59|EDIFICACION|SALA DE BELLEZA [...|Mayor de edad|HOMBRE|   NICARAGUA|GUANACASTE|    CARRILLO|      FILADELFIA|\n",
      "|ASALTO|ARMA BLANCA|2021-01-17|09:00:00 - 11:59:59|    PERSONA|    PEATON [PERSONA]|Mayor de edad| MUJER|  COSTA RICA|  SAN JOSE|    SAN JOSE|        CATEDRAL|\n",
      "|ASALTO|ARMA BLANCA|2021-01-18|21:00:00 - 23:59:59|    PERSONA|    PEATON [PERSONA]|Mayor de edad|HOMBRE|   NICARAGUA|  SAN JOSE|    SAN JOSE|        HOSPITAL|\n",
      "|ASALTO|ARMA BLANCA|2021-01-19|15:00:00 - 17:59:59|    PERSONA|    PEATON [PERSONA]|Mayor de edad| MUJER|  COSTA RICA|  SAN JOSE|  GOICOECHEA|   SAN FRANCISCO|\n",
      "|ASALTO|ARMA BLANCA|2021-01-19|18:00:00 - 20:59:59|    PERSONA|    PEATON [PERSONA]|Mayor de edad| MUJER|  COSTA RICA|  SAN JOSE|DESAMPARADOS|SAN RAFAEL ABAJO|\n",
      "|ASALTO|ARMA BLANCA|2021-01-22|03:00:00 - 05:59:59|    PERSONA|    PEATON [PERSONA]|Mayor de edad|HOMBRE|   NICARAGUA|  SAN JOSE|  GOICOECHEA|   SAN FRANCISCO|\n",
      "|ASALTO|ARMA BLANCA|2021-01-23|06:00:00 - 08:59:59|    PERSONA|    PEATON [PERSONA]|Mayor de edad|HOMBRE|  COSTA RICA|  SAN JOSE|DESAMPARADOS|    DESAMPARADOS|\n",
      "|ASALTO|ARMA BLANCA|2021-01-27|18:00:00 - 20:59:59|    PERSONA|OTRO O INDETERMIN...|Mayor de edad|HOMBRE|  COSTA RICA|PUNTARENAS|  PUNTARENAS|          COBANO|\n",
      "|ASALTO|ARMA BLANCA|2021-01-15|12:00:00 - 14:59:59|    PERSONA|    PEATON [PERSONA]|Mayor de edad|HOMBRE|  COSTA RICA|  SAN JOSE|    SAN JOSE|        HOSPITAL|\n",
      "|ASALTO|ARMA BLANCA|2021-02-05|18:00:00 - 20:59:59|EDIFICACION|FARMACIA [EDIFICA...|Mayor de edad| MUJER|  COSTA RICA|   CARTAGO|    OREAMUNO|      SAN RAFAEL|\n",
      "+------+-----------+----------+-------------------+-----------+--------------------+-------------+------+------------+----------+------------+----------------+\n",
      "only showing top 20 rows\n",
      "\n",
      "+--------------------+---------+-----------------+----------------+----------------+--------------------------------+----------------------------+-----------------+----------------+----------------+\n",
      "|            Distrito|Poblacion|TasaParticipacion|   TasaOcupacion|   TasaDesempleo|PorcentajeEconomicamenteInactiva|RelacionDependenciaEconomica|   SectorPrimario|SectorSecundario| SectorTerciario|\n",
      "+--------------------+---------+-----------------+----------------+----------------+--------------------------------+----------------------------+-----------------+----------------+----------------+\n",
      "|         Costa Rica |3233882.0|  53.479687879768|51.6602646602443|3.40208271898327|                 46.520312120232|             1.4873007337508| 13.8558940568599|17.8987951864923|68.2453107566478|\n",
      "|                 NaN|      NaN|              NaN|             NaN|             NaN|                             NaN|                         NaN|              NaN|             NaN|             NaN|\n",
      "|            San José|1087315.0| 56.0236913865807| 54.076325627808|3.47596831014817|                43.9763086134193|            1.30523315943095| 5.46974386883908|17.2941256505323|77.2361304806286|\n",
      "|                 NaN|      NaN|              NaN|             NaN|             NaN|                             NaN|                         NaN|              NaN|             NaN|             NaN|\n",
      "|            San José| 225856.0| 56.7082565882686| 54.477189005384|3.93429055504806|                43.2917434117314|             1.2490337994519|0.653446033810143|18.9060468140442|80.4405071521456|\n",
      "|                 NaN|      NaN|              NaN|             NaN|             NaN|                             NaN|                         NaN|              NaN|             NaN|             NaN|\n",
      "|   Carmen           |   2431.0| 56.3142739613328|54.7922665569724| 2.7027027027027|                43.6857260386672|           0.973703433162893| 1.57657657657658|8.70870870870871|89.7147147147147|\n",
      "|     Merced         |   9655.0|  59.243915069912|56.9963749352667|3.79370629370629|                 40.756084930088|            1.14283216783217|0.835907686716337|18.2627657641287| 80.901326549155|\n",
      "|  Hospital          |  15096.0| 56.4255431902491|53.9281928987811|4.42592157783517|                43.5744568097509|            1.26226813806058|0.466773123694878|18.6217909347746|80.9114359415305|\n",
      "|  Catedral          |  10742.0| 59.0113572891454|57.0284863153975|3.36015144344534|                40.9886427108546|            1.04070042593469|0.457068233757754|14.5935357492654|84.9493960169768|\n",
      "|    Zapote          |  15545.0| 55.6770665808942|54.0495336120939|2.92316580011554|                44.3229334191058|            1.15817446562681|0.606998333730064|13.7467269697691|85.6462746965008|\n",
      "|San Francisco de ...|  16895.0| 57.4252737496301|56.0816809707014| 2.3397237682952|                42.5747262503699|            1.08297258297258|0.517150395778364|13.0131926121372|86.4696569920844|\n",
      "|   Uruca            |  22717.0| 59.0306818682044|56.6492054408593|4.03430275913497|                40.9693181317956|            1.36599552572707|0.994638278032481|29.0620871862616| 69.943274535706|\n",
      "|  Mata Redonda      |   7077.0| 54.0200649992935|52.1689981630634|3.42662830238033|                45.9799350007065|            1.17447031127387| 1.13759479956663|11.7280606717226|87.1343445287107|\n",
      "|   Pavas            |  54510.0| 56.3199412951752|53.9350577875619|4.23452768729642|                43.6800587048248|            1.32521172638436| 0.73469387755102|23.7619047619048|75.5034013605442|\n",
      "|  Hatillo           |  39555.0| 54.7263304259891|52.2184300341297|4.58262114842703|                45.2736695740109|            1.33339492770361|0.450254175744372|16.3834422657952|83.1663035584604|\n",
      "|  San Sebastián     |  31633.0| 57.5222078209465|55.1481048272374|4.12728072103759|                42.4777921790535|            1.20185755111013|0.527371739753511|16.0504442533677|83.4221840068788|\n",
      "|                 NaN|      NaN|              NaN|             NaN|             NaN|                             NaN|                         NaN|              NaN|             NaN|             NaN|\n",
      "|              Escazú|  44797.0| 60.7094225059714|58.8655490323013|3.03721135461097|                39.2905774940286|            1.07784232975438| 2.54835039817975|16.7159651118696|80.7356844899507|\n",
      "|                 NaN|      NaN|              NaN|             NaN|             NaN|                             NaN|                         NaN|              NaN|             NaN|             NaN|\n",
      "+--------------------+---------+-----------------+----------------+----------------+--------------------------------+----------------------------+-----------------+----------------+----------------+\n",
      "only showing top 20 rows\n",
      "\n"
     ]
    }
   ],
   "source": [
    "oijEstadistics.show()\n",
    "inecEstadistics.show()"
   ]
  },
  {
   "cell_type": "markdown",
   "id": "e8cd373c",
   "metadata": {},
   "source": [
    "## Integración de los datos"
   ]
  },
  {
   "cell_type": "markdown",
   "id": "c0434abe",
   "metadata": {},
   "source": [
    "Antes de poder realizar la integración se debe hacer un procesamiento de los datos de forma que al unir ambos, sea mucho más sencillo"
   ]
  },
  {
   "cell_type": "markdown",
   "id": "7892f30d",
   "metadata": {},
   "source": [
    "### Eliminar espacios en blanco"
   ]
  },
  {
   "cell_type": "markdown",
   "id": "aa7dd4ab",
   "metadata": {},
   "source": [
    "Si revisamos los datos del INEC asociados a este programa veremos que se genera archivos de tipo nulo, entonces crearemos una función que se encargue de eliminarlos, recibirá el dataframe a actualizar y le filtrá, si en la columna Distrito hay un nulo, le eliminará"
   ]
  },
  {
   "cell_type": "code",
   "execution_count": 9,
   "id": "2afe2168",
   "metadata": {},
   "outputs": [],
   "source": [
    "def deleteBlankSpaces(df):\n",
    "    ndf = df.select('Distrito','Poblacion','TasaParticipacion','TasaOcupacion','TasaDesempleo',\n",
    "                   'PorcentajeEconomicamenteInactiva','RelacionDependenciaEconomica', 'SectorPrimario', 'SectorSecundario',\n",
    "                   'SectorTerciario').filter(df.Distrito != \"NaN\")\n",
    "    return ndf"
   ]
  },
  {
   "cell_type": "code",
   "execution_count": 10,
   "id": "fadec148",
   "metadata": {
    "scrolled": true
   },
   "outputs": [
    {
     "name": "stdout",
     "output_type": "stream",
     "text": [
      "+--------------------+---------+-----------------+----------------+----------------+--------------------------------+----------------------------+-----------------+----------------+----------------+\n",
      "|            Distrito|Poblacion|TasaParticipacion|   TasaOcupacion|   TasaDesempleo|PorcentajeEconomicamenteInactiva|RelacionDependenciaEconomica|   SectorPrimario|SectorSecundario| SectorTerciario|\n",
      "+--------------------+---------+-----------------+----------------+----------------+--------------------------------+----------------------------+-----------------+----------------+----------------+\n",
      "|         Costa Rica |3233882.0|  53.479687879768|51.6602646602443|3.40208271898327|                 46.520312120232|             1.4873007337508| 13.8558940568599|17.8987951864923|68.2453107566478|\n",
      "|            San José|1087315.0| 56.0236913865807| 54.076325627808|3.47596831014817|                43.9763086134193|            1.30523315943095| 5.46974386883908|17.2941256505323|77.2361304806286|\n",
      "|            San José| 225856.0| 56.7082565882686| 54.477189005384|3.93429055504806|                43.2917434117314|             1.2490337994519|0.653446033810143|18.9060468140442|80.4405071521456|\n",
      "|   Carmen           |   2431.0| 56.3142739613328|54.7922665569724| 2.7027027027027|                43.6857260386672|           0.973703433162893| 1.57657657657658|8.70870870870871|89.7147147147147|\n",
      "|     Merced         |   9655.0|  59.243915069912|56.9963749352667|3.79370629370629|                 40.756084930088|            1.14283216783217|0.835907686716337|18.2627657641287| 80.901326549155|\n",
      "|  Hospital          |  15096.0| 56.4255431902491|53.9281928987811|4.42592157783517|                43.5744568097509|            1.26226813806058|0.466773123694878|18.6217909347746|80.9114359415305|\n",
      "|  Catedral          |  10742.0| 59.0113572891454|57.0284863153975|3.36015144344534|                40.9886427108546|            1.04070042593469|0.457068233757754|14.5935357492654|84.9493960169768|\n",
      "|    Zapote          |  15545.0| 55.6770665808942|54.0495336120939|2.92316580011554|                44.3229334191058|            1.15817446562681|0.606998333730064|13.7467269697691|85.6462746965008|\n",
      "|San Francisco de ...|  16895.0| 57.4252737496301|56.0816809707014| 2.3397237682952|                42.5747262503699|            1.08297258297258|0.517150395778364|13.0131926121372|86.4696569920844|\n",
      "|   Uruca            |  22717.0| 59.0306818682044|56.6492054408593|4.03430275913497|                40.9693181317956|            1.36599552572707|0.994638278032481|29.0620871862616| 69.943274535706|\n",
      "|  Mata Redonda      |   7077.0| 54.0200649992935|52.1689981630634|3.42662830238033|                45.9799350007065|            1.17447031127387| 1.13759479956663|11.7280606717226|87.1343445287107|\n",
      "|   Pavas            |  54510.0| 56.3199412951752|53.9350577875619|4.23452768729642|                43.6800587048248|            1.32521172638436| 0.73469387755102|23.7619047619048|75.5034013605442|\n",
      "|  Hatillo           |  39555.0| 54.7263304259891|52.2184300341297|4.58262114842703|                45.2736695740109|            1.33339492770361|0.450254175744372|16.3834422657952|83.1663035584604|\n",
      "|  San Sebastián     |  31633.0| 57.5222078209465|55.1481048272374|4.12728072103759|                42.4777921790535|            1.20185755111013|0.527371739753511|16.0504442533677|83.4221840068788|\n",
      "|              Escazú|  44797.0| 60.7094225059714|58.8655490323013|3.03721135461097|                39.2905774940286|            1.07784232975438| 2.54835039817975|16.7159651118696|80.7356844899507|\n",
      "|  Escazú            |   9580.0|  58.705636743215|56.6910229645094|3.43172119487909|                 41.294363256785|            1.13086770981508| 1.62032774811269|15.7061314675014|82.6735407843859|\n",
      "|  San Antonio       |  17544.0| 60.5734154126767|  58.74943000456|3.01119789216148|                39.4265845873233|            1.12232991436906| 3.79353837198021|18.5796060929465|77.6268555350733|\n",
      "|  San Rafael        |  17673.0| 61.9306286425621| 60.159565438805|2.85975331201462|                38.0693713574379|            1.00740063956144| 1.81527464258841|15.4251316779534|82.7595936794583|\n",
      "|        Desamparados| 159292.0| 56.9890515531226| 54.706451045878| 4.0053316295619|                43.0109484468774|             1.2958062988136| 2.21475046762218|19.5701318522429| 78.215117680135|\n",
      "|  Desamparados      |  26951.0| 59.2668175577901|56.4097807131461|4.82063482126088|                40.7331824422099|            1.12020284229638|0.532789581003749|14.9575741629941|84.5096362560021|\n",
      "+--------------------+---------+-----------------+----------------+----------------+--------------------------------+----------------------------+-----------------+----------------+----------------+\n",
      "only showing top 20 rows\n",
      "\n"
     ]
    }
   ],
   "source": [
    "inecEstadistics = deleteBlankSpaces(inecEstadistics) #Solo se hace para la del INEC, debido a que el OIJ no tiene nuls\n",
    "inecEstadistics.show(20)"
   ]
  },
  {
   "cell_type": "markdown",
   "id": "f5320f68",
   "metadata": {},
   "source": [
    "Como se ve, los espacios blancos han sido eliminados"
   ]
  },
  {
   "cell_type": "markdown",
   "id": "baef3fe4",
   "metadata": {},
   "source": [
    "### Convertir a minusculas"
   ]
  },
  {
   "cell_type": "markdown",
   "id": "94a9743d",
   "metadata": {},
   "source": [
    "Como motivo de aseguarnos que los registros de amhas fuentes de datos coincidan, lo mejor es manejar un estandar por lo que se buscará crear una funcion que recibe el dataframe y la eleccion que se desea cambiar y retornará un Data Frame actualizado o -1 en caso de error"
   ]
  },
  {
   "cell_type": "code",
   "execution_count": 11,
   "id": "c2372725",
   "metadata": {},
   "outputs": [],
   "source": [
    "def toMinus(df, choice):\n",
    "    ndf = -1\n",
    "    if choice == 1:\n",
    "        ndf = inecEstadistics.select(lower(col('Distrito')).alias('Distrito'),'Poblacion','TasaParticipacion','TasaOcupacion','TasaDesempleo',\n",
    "                   'PorcentajeEconomicamenteInactiva','RelacionDependenciaEconomica', 'SectorPrimario', 'SectorSecundario',\n",
    "                   'SectorTerciario')\n",
    "    elif choice == 2:\n",
    "        ndf = oijEstadistics.select('Delito','SubDelito','Fecha','Hora'\n",
    "                      ,'Victima','SubVictima','Edad'\n",
    "                      ,'Genero','Nacionalidad','Provincia'\n",
    "                      ,'Canton',lower(col('Distrito')).alias('Distrito'))\n",
    "    return ndf"
   ]
  },
  {
   "cell_type": "code",
   "execution_count": 12,
   "id": "2bbf53bc",
   "metadata": {
    "scrolled": true
   },
   "outputs": [
    {
     "name": "stdout",
     "output_type": "stream",
     "text": [
      "+--------------------+---------+-----------------+----------------+----------------+--------------------------------+----------------------------+-----------------+----------------+----------------+\n",
      "|            Distrito|Poblacion|TasaParticipacion|   TasaOcupacion|   TasaDesempleo|PorcentajeEconomicamenteInactiva|RelacionDependenciaEconomica|   SectorPrimario|SectorSecundario| SectorTerciario|\n",
      "+--------------------+---------+-----------------+----------------+----------------+--------------------------------+----------------------------+-----------------+----------------+----------------+\n",
      "|         costa rica |3233882.0|  53.479687879768|51.6602646602443|3.40208271898327|                 46.520312120232|             1.4873007337508| 13.8558940568599|17.8987951864923|68.2453107566478|\n",
      "|            san josé|1087315.0| 56.0236913865807| 54.076325627808|3.47596831014817|                43.9763086134193|            1.30523315943095| 5.46974386883908|17.2941256505323|77.2361304806286|\n",
      "|            san josé| 225856.0| 56.7082565882686| 54.477189005384|3.93429055504806|                43.2917434117314|             1.2490337994519|0.653446033810143|18.9060468140442|80.4405071521456|\n",
      "|   carmen           |   2431.0| 56.3142739613328|54.7922665569724| 2.7027027027027|                43.6857260386672|           0.973703433162893| 1.57657657657658|8.70870870870871|89.7147147147147|\n",
      "|     merced         |   9655.0|  59.243915069912|56.9963749352667|3.79370629370629|                 40.756084930088|            1.14283216783217|0.835907686716337|18.2627657641287| 80.901326549155|\n",
      "|  hospital          |  15096.0| 56.4255431902491|53.9281928987811|4.42592157783517|                43.5744568097509|            1.26226813806058|0.466773123694878|18.6217909347746|80.9114359415305|\n",
      "|  catedral          |  10742.0| 59.0113572891454|57.0284863153975|3.36015144344534|                40.9886427108546|            1.04070042593469|0.457068233757754|14.5935357492654|84.9493960169768|\n",
      "|    zapote          |  15545.0| 55.6770665808942|54.0495336120939|2.92316580011554|                44.3229334191058|            1.15817446562681|0.606998333730064|13.7467269697691|85.6462746965008|\n",
      "|san francisco de ...|  16895.0| 57.4252737496301|56.0816809707014| 2.3397237682952|                42.5747262503699|            1.08297258297258|0.517150395778364|13.0131926121372|86.4696569920844|\n",
      "|   uruca            |  22717.0| 59.0306818682044|56.6492054408593|4.03430275913497|                40.9693181317956|            1.36599552572707|0.994638278032481|29.0620871862616| 69.943274535706|\n",
      "|  mata redonda      |   7077.0| 54.0200649992935|52.1689981630634|3.42662830238033|                45.9799350007065|            1.17447031127387| 1.13759479956663|11.7280606717226|87.1343445287107|\n",
      "|   pavas            |  54510.0| 56.3199412951752|53.9350577875619|4.23452768729642|                43.6800587048248|            1.32521172638436| 0.73469387755102|23.7619047619048|75.5034013605442|\n",
      "|  hatillo           |  39555.0| 54.7263304259891|52.2184300341297|4.58262114842703|                45.2736695740109|            1.33339492770361|0.450254175744372|16.3834422657952|83.1663035584604|\n",
      "|  san sebastián     |  31633.0| 57.5222078209465|55.1481048272374|4.12728072103759|                42.4777921790535|            1.20185755111013|0.527371739753511|16.0504442533677|83.4221840068788|\n",
      "|              escazú|  44797.0| 60.7094225059714|58.8655490323013|3.03721135461097|                39.2905774940286|            1.07784232975438| 2.54835039817975|16.7159651118696|80.7356844899507|\n",
      "|  escazú            |   9580.0|  58.705636743215|56.6910229645094|3.43172119487909|                 41.294363256785|            1.13086770981508| 1.62032774811269|15.7061314675014|82.6735407843859|\n",
      "|  san antonio       |  17544.0| 60.5734154126767|  58.74943000456|3.01119789216148|                39.4265845873233|            1.12232991436906| 3.79353837198021|18.5796060929465|77.6268555350733|\n",
      "|  san rafael        |  17673.0| 61.9306286425621| 60.159565438805|2.85975331201462|                38.0693713574379|            1.00740063956144| 1.81527464258841|15.4251316779534|82.7595936794583|\n",
      "|        desamparados| 159292.0| 56.9890515531226| 54.706451045878| 4.0053316295619|                43.0109484468774|             1.2958062988136| 2.21475046762218|19.5701318522429| 78.215117680135|\n",
      "|  desamparados      |  26951.0| 59.2668175577901|56.4097807131461|4.82063482126088|                40.7331824422099|            1.12020284229638|0.532789581003749|14.9575741629941|84.5096362560021|\n",
      "+--------------------+---------+-----------------+----------------+----------------+--------------------------------+----------------------------+-----------------+----------------+----------------+\n",
      "only showing top 20 rows\n",
      "\n",
      "+------+-----------+----------+-------------------+-----------+--------------------+-------------+------+------------+----------+------------+----------------+\n",
      "|Delito|  SubDelito|     Fecha|               Hora|    Victima|          SubVictima|         Edad|Genero|Nacionalidad| Provincia|      Canton|        Distrito|\n",
      "+------+-----------+----------+-------------------+-----------+--------------------+-------------+------+------------+----------+------------+----------------+\n",
      "|ASALTO|ARMA BLANCA|2021-01-03|06:00:00 - 08:59:59|EDIFICACION|PANADERIA [EDIFIC...|Mayor de edad| MUJER|  COSTA RICA|  ALAJUELA|       UPALA|         bijagua|\n",
      "|ASALTO|ARMA BLANCA|2021-01-02|06:00:00 - 08:59:59|   VIVIENDA|NO APLICA [VIVIENDA]|Mayor de edad| MUJER|  COSTA RICA|     LIMON|       LIMON|          matama|\n",
      "|ASALTO|ARMA BLANCA|2021-01-07|12:00:00 - 14:59:59|    PERSONA|    PEATON [PERSONA]|Mayor de edad| MUJER|  COSTA RICA|  SAN JOSE|    SAN JOSE|        hospital|\n",
      "|ASALTO|ARMA BLANCA|2021-01-08|03:00:00 - 05:59:59|    PERSONA|OTRO O INDETERMIN...|Mayor de edad|HOMBRE|  COSTA RICA|     LIMON|     GUACIMO|     rio jimenez|\n",
      "|ASALTO|ARMA BLANCA|2021-01-11|12:00:00 - 14:59:59|   VEHICULO|OTRO O INDETERMIN...|Menor de edad|HOMBRE|  COSTA RICA|  SAN JOSE|    SAN JOSE|   san sebastian|\n",
      "|ASALTO|ARMA BLANCA|2021-01-11|12:00:00 - 14:59:59|    PERSONA|    PEATON [PERSONA]|Mayor de edad|HOMBRE|      ESPANA|PUNTARENAS|         OSA|           drake|\n",
      "|ASALTO|ARMA BLANCA|2021-01-12|21:00:00 - 23:59:59|    PERSONA|    PEATON [PERSONA]|Mayor de edad|HOMBRE|  COSTA RICA|PUNTARENAS|     GOLFITO|        guaycara|\n",
      "|ASALTO|ARMA BLANCA|2021-01-14|06:00:00 - 08:59:59|    PERSONA|    PEATON [PERSONA]|Mayor de edad|HOMBRE|  COSTA RICA|     LIMON|   SIQUIRRES|           cairo|\n",
      "|ASALTO|ARMA BLANCA|2021-01-14|06:00:00 - 08:59:59|    PERSONA|    PEATON [PERSONA]|Mayor de edad|HOMBRE|  COSTA RICA|  SAN JOSE|    SAN JOSE|           pavas|\n",
      "|ASALTO|ARMA BLANCA|2021-01-15|00:00:00 - 02:59:59|    PERSONA|    PEATON [PERSONA]|Mayor de edad|HOMBRE|  COSTA RICA|  SAN JOSE|    SAN JOSE|        hospital|\n",
      "|ASALTO|ARMA BLANCA|2021-01-15|18:00:00 - 20:59:59|EDIFICACION|SALA DE BELLEZA [...|Mayor de edad|HOMBRE|   NICARAGUA|GUANACASTE|    CARRILLO|      filadelfia|\n",
      "|ASALTO|ARMA BLANCA|2021-01-17|09:00:00 - 11:59:59|    PERSONA|    PEATON [PERSONA]|Mayor de edad| MUJER|  COSTA RICA|  SAN JOSE|    SAN JOSE|        catedral|\n",
      "|ASALTO|ARMA BLANCA|2021-01-18|21:00:00 - 23:59:59|    PERSONA|    PEATON [PERSONA]|Mayor de edad|HOMBRE|   NICARAGUA|  SAN JOSE|    SAN JOSE|        hospital|\n",
      "|ASALTO|ARMA BLANCA|2021-01-19|15:00:00 - 17:59:59|    PERSONA|    PEATON [PERSONA]|Mayor de edad| MUJER|  COSTA RICA|  SAN JOSE|  GOICOECHEA|   san francisco|\n",
      "|ASALTO|ARMA BLANCA|2021-01-19|18:00:00 - 20:59:59|    PERSONA|    PEATON [PERSONA]|Mayor de edad| MUJER|  COSTA RICA|  SAN JOSE|DESAMPARADOS|san rafael abajo|\n",
      "|ASALTO|ARMA BLANCA|2021-01-22|03:00:00 - 05:59:59|    PERSONA|    PEATON [PERSONA]|Mayor de edad|HOMBRE|   NICARAGUA|  SAN JOSE|  GOICOECHEA|   san francisco|\n",
      "|ASALTO|ARMA BLANCA|2021-01-23|06:00:00 - 08:59:59|    PERSONA|    PEATON [PERSONA]|Mayor de edad|HOMBRE|  COSTA RICA|  SAN JOSE|DESAMPARADOS|    desamparados|\n",
      "|ASALTO|ARMA BLANCA|2021-01-27|18:00:00 - 20:59:59|    PERSONA|OTRO O INDETERMIN...|Mayor de edad|HOMBRE|  COSTA RICA|PUNTARENAS|  PUNTARENAS|          cobano|\n",
      "|ASALTO|ARMA BLANCA|2021-01-15|12:00:00 - 14:59:59|    PERSONA|    PEATON [PERSONA]|Mayor de edad|HOMBRE|  COSTA RICA|  SAN JOSE|    SAN JOSE|        hospital|\n",
      "|ASALTO|ARMA BLANCA|2021-02-05|18:00:00 - 20:59:59|EDIFICACION|FARMACIA [EDIFICA...|Mayor de edad| MUJER|  COSTA RICA|   CARTAGO|    OREAMUNO|      san rafael|\n",
      "+------+-----------+----------+-------------------+-----------+--------------------+-------------+------+------------+----------+------------+----------------+\n",
      "only showing top 20 rows\n",
      "\n"
     ]
    }
   ],
   "source": [
    "inecEstadistics = toMinus(inecEstadistics, 1)\n",
    "oijEstadistics = toMinus(oijEstadistics,2)\n",
    "\n",
    "inecEstadistics.show()\n",
    "oijEstadistics.show()"
   ]
  },
  {
   "cell_type": "markdown",
   "id": "454ae770",
   "metadata": {},
   "source": [
    "Como se puede apreciar, en ambos DataFrames ya no tenemos mayusculas en la columna distrito"
   ]
  },
  {
   "cell_type": "markdown",
   "id": "a076e1fe",
   "metadata": {},
   "source": [
    "### Listas sin coincidencias"
   ]
  },
  {
   "cell_type": "markdown",
   "id": "7f8aa54a",
   "metadata": {},
   "source": [
    "Continuando con el proceso de buscar crear eficiencia para unir nuestras fuentes, crearemos una funcion que dependiendo de los Data Frames pasados por parametros genere una lista con los distritos del primero que NO estén en el segundo, y al final retornaremos una tupla con dos listas una que contiene los registros repetidos y otra que no, esto con el fin que comparar sea más sencillo"
   ]
  },
  {
   "cell_type": "code",
   "execution_count": 13,
   "id": "26b6af81",
   "metadata": {},
   "outputs": [],
   "source": [
    "def getNoDuplicateDistrits(dt1, dt2):\n",
    "    distritsDt1 = [x[\"Distrito\"] for x in dt1.rdd.collect()] #Obtendremos todos los registros de la columna Distrito\n",
    "    distritsDt2 = [x[\"Distrito\"] for x in dt2.rdd.collect()]\n",
    "    finalDistrits = []\n",
    "    for i in distritsDt1:\n",
    "        if not i in distritsDt2:\n",
    "            finalDistrits.append(i)\n",
    "    withoutDuplicates = []\n",
    "    for i in finalDistrits:\n",
    "        if not i in withoutDuplicates:\n",
    "            withoutDuplicates.append(i)\n",
    "    return (finalDistrits, withoutDuplicates)"
   ]
  },
  {
   "cell_type": "code",
   "execution_count": 14,
   "id": "1ba477bb",
   "metadata": {
    "scrolled": true
   },
   "outputs": [
    {
     "name": "stdout",
     "output_type": "stream",
     "text": [
      "['bijagua', 'matama', 'hospital', 'rio jimenez', 'san sebastian', 'drake', 'guaycara', 'cairo', 'pavas', 'filadelfia', 'catedral', 'san francisco', 'san rafael abajo', 'cobano', 'fortuna', 'hatillo', 'sanchez', 'chacarita', 'el roble', 'ipis', 'sabalito', 'san pedro', 'horquetas', 'llanos de santa lucia', 'merced', 'quesada', 'zapote', 'san francisco de dos rios', 'concepcion', 'tres rios', 'san felipe', 'limon', 'sabanilla', 'daniel flores', 'calle blancos', 'el tejar', 'cahuita', 'bratsi', 'san antonio', 'ulloa', 'batan', 'desconocido', 'puerto viejo', 'carmen', 'leon xiii', 'san juan', 'san jose', 'occidental', 'tacares', 'guacima', 'oriental', 'gravilias', 'barranca', 'rio segundo', 'quepos', 'cariari', 'orosi', 'jimenez', 'venecia', 'san juan de dios', 'santo tomas', 'roxana', 'aserri', 'guapiles', 'guadalupe', 'carrillos', 'san rafael arriba', 'purral', 'corredor', 'mata redonda', 'cinco esquinas', 'san miguel', 'samara', 'bejuco', 'san ramon', 'nosara', 'cutris', 'caldera', 'canas', 'santiago', 'carrandi', 'san nicolas', 'quebradilla', 'lepanto', 'la virgen', 'tilaran', 'san jose (pizote)', 'escazu', 'germania', 'jaco', 'bebedero', 'san diego', 'pozos', 'cabo velas', 'paquera', 'macacoma', 'santa cecilia', 'las juntas', 'llano grande', 'san jeronimo', 'aguas zarcas', 'bahia ballena', 'tamarindo', 'cascajal', 'canoas', 'san josecito', 'guacimo', 'san marcos', 'san joaquin', 'volio', 'dulce nombre', 'granadilla', 'patarra', 'tarcoles', 'pacuarito', 'rita', 'cachi', 'colon', 'dulce nombre de jesus', 'llorente', 'brasil', 'palmar', 'san lorenzo', 'nacascolo', 'palmira', 'paraiso', 'belen de nosarita', 'pacayas', 'san jose de la monta?a', 'turrucares', 'reventazón', 'pocosol', 'quitirrisí', 'esquipulas', 'san vicente', 'rosario', 'jesus', 'la amistad', 'asuncion', 'tirrases', 'florencia', 'piedades', 'duacari', 'salitral', 'la suiza', 'aguas claras', 'valle la estrella', 'cot', 'savegre', 'cervantes', 'pital', 'ceiba', 'la ribera', 'la colonia', 'mata platano', 'rio azul', 'santa rosa', 'patalillo', 'anselmo llorente', 'penas blancas', 'tambor', 'la trinidad', 'santa barbara', 'san roque', 'tarbaca', 'san andres', 'colima', 'coyolar', 'palmichal', 'santa lucia', 'tempate', 'mercedes sur', 'cuajiniquil', 'miramar', 'rincon de sabanilla', 'barbacoas', 'sarchi norte', 'los angeles', 'florida', 'cortes', 'salitrillos', 'merecedes', 'baru', 'san juan grande', 'piedades norte', 'alegria', 'rio blanco', 'colorado', 'para', 'agua buena', 'monte verde', 'curubande', 'delicias', 'tures', 'pocora', 'el amparo', 'pittier', 'angeles', 'tronadora', 'juan vinas', 'mogote', 'biolley', 'la cuesta', 'pavon', 'belen', 'canas dulces', 'vuelta de jorco', 'puente de piedra', 'sarchi sur', 'general', 'chomes', 'la garita', 'barrantes', 'espiritu santo', 'sardinal', 'rancho redondo', 'hacienda vieja', 'carmona', 'cartagena', 'palmera', 'sixaola', 'pavones', 'san vito', 'tayutic', 'damas', 'naranjito', 'platanares', 'santa teresita', 'corralillo', 'pitahaya', 'tierra blanca', 'san gabriel', 'arenal', 'sierpe', 'gutierrez braun', 'tobosi', 'bolson', 'potrero cerrado', 'potrero grande', 'tabarcia', 'sarapiqui', 'alfaro', 'tigra', 'llano bonito', 'san luis', 'laurel', 'cano negro', 'sabanillas', 'rio naranjo', 'bolivar', 'san cristobal', 'yolillal', 'quebrada honda', 'santa rita', 'piedades sur', 'cajon', 'rio cuarto', 'zaragoza', 'paramo', 'san ignacio', 'rivas', 'mansion', 'tucurrique', 'guacimal', 'rio nuevo', 'granja', 'labrador', 'canalete', 'santa elena', 'quebrada grande', 'puerto carrillo', 'jesus maria', 'cirri sur', 'dos rios', 'capellades', 'picagres', 'carrizal', 'guayabo', 'puraba', 'sierra', 'candelaria', 'santa maria', 'piedras blancas', 'sabana redonda', 'san juan de mata', 'volcan', 'pejibaye', 'paracito', 'frailes', 'la legua', 'jaris', 'el chirripo', 'tapezco', 'tuis', 'peralta', 'tres equis', 'piedras negras', 'manzanillo', 'jardin', 'union', 'santa eulalia', 'monterrey', 'chires', 'mayorga', 'grifo alto', 'arancibia', 'copey', 'cote', 'santa isabel', 'rodriguez', 'colinas', 'cure?a', 'san jorge', 'mastate', 'boruca', 'brunka', 'desamparaditos', 'cangrejal', 'patio de agua', 'limoncito', 'tierras morenas', 'diria', 'cabeceras', 'laguna', 'matambu', 'cipreses', 'toro amarillo', 'buenavista', 'candelarita', 'guaitil']\n",
      "\n",
      " \n",
      " \n",
      " \n",
      " Si vemos el problema radica en que hay demasiados espacios \n",
      " \n",
      " \n",
      "['costa rica ', 'san josé', 'san josé', 'carmen           ', 'merced         ', 'hospital          ', 'catedral          ', 'zapote          ', 'san francisco de dos ríos', 'uruca            ', 'mata redonda      ', 'pavas            ', 'hatillo           ', 'san sebastián     ', 'escazú', 'escazú            ', 'san antonio       ', 'san rafael        ', 'desamparados', 'desamparados      ', 'san miguel        ', 'san juan de dios  ', 'san rafael arriba ', 'san antonio       ', 'frailes           ', 'patarrá          ', 'san cristóbal     ', 'rosario           ', 'damas            ', 'san rafael abajo  ', 'gravilias         ', 'los guido', 'puriscal', 'santiago          ', 'mercedes sur      ', 'barbacoas         ', 'grifo alto        ', 'san rafael        ', 'candelarita       ', 'desamparaditos    ', 'san antonio       ', 'chires            ', 'tarrazú', 'san marcos        ', 'san lorenzo       ', 'san carlos        ', 'aserrí', 'aserrí            ', 'tarbaca     ', 'vuelta de jorco   ', 'san gabriel       ', 'legua           ', 'monterrey         ', 'salitrillos       ', 'mora', 'colón            ', 'guayabo           ', 'tabarcia          ', 'piedras negras    ', 'picagres          ', 'goicoechea', 'guadalupe         ', 'san francisco     ', 'calle blancos     ', 'mata de plátano   ', 'ipís             ', 'rancho redondo    ', 'purral            ', 'santa ana', 'santa ana         ', 'salitral          ', 'pozos   ', 'uruca', 'piedades          ', 'brasil            ', 'alajuelita', 'alajuelita', 'san josecito      ', 'san antonio       ', 'concepción        ', 'san felipe        ', 'vázquez de coronado', 'san isidro        ', 'san rafael        ', 'dulce nombre de jesús', 'patalillo         ', 'cascajal          ', 'acosta', 'san ignacio       ', 'guaitil           ', 'palmichal         ', 'cangrejal         ', 'sabanillas        ', 'tibás', 'san juan          ', 'cinco esquinas    ', 'anselmo llorente  ', 'león xiii     ', 'colima            ', 'moravia', 'san vicente       ', 'san jerónimo      ', 'la trinidad       ', 'montes de oca', 'san pedro         ', 'sabanilla         ', 'mercedes', 'san rafael        ', 'turrubares', 'san pablo         ', 'san pedro         ', 'san juan de mata  ', 'san luis          ', 'carara', 'dota', 'santa maría       ', 'jardín            ', 'copey            ', 'curridabat', 'curridabat        ', 'granadilla        ', 'sánchez           ', 'tirrases          ', 'pérez zeledón', 'san isidro de el general', 'el general        ', 'daniel flores     ', 'rivas            ', 'san pedro         ', 'platanares        ', 'pejibaye          ', 'cajón  ', 'barú             ', 'río nuevo         ', 'páramo            ', 'león cortés castro', 'san pablo         ', 'san andrés        ', 'llano bonito      ', 'san isidro        ', 'santa cruz        ', 'san antonio       ', 'alajuela', 'alajuela', 'alajuela          ', 'san josé          ', 'carrizal          ', 'san antonio       ', 'guácima           ', 'san isidro        ', 'sabanilla         ', 'san rafael        ', 'río segundo       ', 'desamparados      ', 'turrúcares        ', 'tambor            ', 'garita          ', 'sarapiquí         ', 'san ramón', 'san ramón         ', 'santiago          ', 'san juan          ', 'piedades norte    ', 'piedades sur      ', 'san rafael        ', 'san isidro        ', 'ángeles           ', 'alfaro            ', 'volio            ', 'concepción        ', 'zapotal           ', 'peñas blancas ', 'grecia', 'grecia            ', 'san isidro        ', 'san josé          ', 'san roque         ', 'tacares           ', 'río cuarto        ', 'puente de piedra  ', 'bolívar           ', 'san mateo', 'san mateo         ', 'desmonte          ', 'jesús maría       ', 'atenas', 'atenas            ', 'jesús            ', 'mercedes          ', 'san isidro        ', 'concepción        ', 'san josé          ', 'santa eulalia     ', 'escobal', 'naranjo', 'naranjo           ', 'san miguel        ', 'san josé          ', 'cirrí sur         ', 'san jerónimo      ', 'san juan          ', 'el rosario        ', 'palmitos', 'palmares', 'palmares          ', 'zaragoza          ', 'buenos aires      ', 'santiago          ', 'candelaria        ', 'esquipulas        ', 'la granja         ', 'poás', 'san pedro         ', 'san juan          ', 'san rafael        ', 'carrillos         ', 'sabana redonda    ', 'orotina', 'orotina           ', 'el mastate        ', 'hacienda vieja    ', 'coyolar           ', 'la ceiba          ', 'san carlos', 'quesada           ', 'florencia         ', 'buenavista        ', 'aguas zarcas      ', 'venecia           ', 'pital            ', 'la fortuna        ', 'la tigra          ', 'la palmera        ', 'venado            ', 'cutris            ', 'monterrey         ', 'pocosol           ', 'zarcero', 'zarcero           ', 'laguna            ', 'tapesco           ', 'guadalupe         ', 'palmira           ', 'zapote            ', 'brisas          ', 'valverde vega', 'sarchí norte      ', 'sarchí sur        ', 'toro amarillo     ', 'san pedro         ', 'rodríguez         ', 'upala', 'upala            ', 'aguas claras      ', 'san josé o pizote ', 'bijagua           ', 'delicias          ', 'dos ríos          ', 'yolillal          ', 'los chiles', 'los chiles        ', 'caño negro        ', 'el amparo         ', 'san jorge         ', 'guatuso', 'san rafael        ', 'buenavista        ', 'cote             ', 'katira', 'cartago', 'cartago', 'oriental          ', 'occidental        ', 'carmen          ', 'san nicolás       ', 'aguacaliente o san francisco', 'guadalupe o arenilla', 'corralillo        ', 'tierra blanca     ', 'dulce nombre      ', 'llano grande      ', 'quebradilla       ', 'paraíso', 'paraíso           ', 'santiago          ', 'orosi            ', 'cachí            ', 'llanos de santa lucía', 'la unión', 'tres ríos         ', 'san diego         ', 'san juan          ', 'san rafael        ', 'concepción        ', 'dulce nombre      ', 'san ramón         ', 'río azul          ', 'jiménez', 'juan viñas        ', 'tucurrique        ', 'pejibaye          ', 'turrialba', 'turrialba         ', 'la suiza          ', 'peralta           ', 'santa cruz        ', 'santa teresita    ', 'pavones           ', 'tuis             ', 'tayutic           ', 'santa rosa        ', 'tres equis        ', 'la isabel', 'chirripó', 'alvarado', 'pacayas           ', 'cervantes         ', 'capellades        ', 'oreamuno', 'san rafael        ', 'cot             ', 'potrero cerrado   ', 'cipreses          ', 'santa rosa        ', 'el guarco', 'el tejar          ', 'san isidro        ', 'tobosi            ', 'patio de agua     ', 'heredia', 'heredia', 'heredia           ', 'mercedes          ', 'san francisco     ', 'ulloa            ', 'varablanca', 'barva', 'barva            ', 'san pedro         ', 'san pablo         ', 'san roque         ', 'santa lucía       ', 'san josé de la montaña', 'santo domingo', 'santo domingo     ', 'san vicente       ', 'san miguel        ', 'paracito          ', 'santo tomás       ', 'santa rosa        ', 'tures            ', 'pará            ', 'santa bárbara', 'santa bárbara     ', 'san pedro         ', 'san juan          ', 'jesús            ', 'santo domingo', 'purabá            ', 'san rafael', 'san rafael        ', 'san josecito      ', 'santiago          ', 'ángeles           ', 'concepción        ', 'san isidro', 'san isidro        ', 'san josé          ', 'concepción        ', 'san francisco     ', 'belén', 'san antonio       ', 'la ribera         ', 'la asunción       ', 'flores', 'san joaquín       ', 'barrantes         ', 'llorente          ', 'san pablo', 'san pablo         ', 'rincón de sabanilla', 'sarapiquí', 'puerto viejo      ', 'la virgen         ', 'las horquetas     ', 'llanuras del gaspar', 'cureña            ', 'guanacaste', 'liberia', 'liberia           ', 'cañas dulces      ', 'mayorga           ', 'nacascolo         ', 'curubandé         ', 'nicoya', 'nicoya            ', 'mansión           ', 'san antonio       ', 'quebrada honda    ', 'sámara            ', 'nosara            ', 'belén de nosarita ', 'santa cruz', 'santa cruz        ', 'bolsón            ', 'veintisiete de abril', 'tempate           ', 'cartagena         ', 'cuajiniquil       ', 'diriá            ', 'cabo velas        ', 'tamarindo         ', 'bagaces', 'bagaces           ', 'la fortuna        ', 'mogote            ', 'río naranjo       ', 'carrillo', 'filadelfia        ', 'palmira           ', 'sardinal          ', 'belén            ', 'cañas', 'cañas            ', 'palmira           ', 'san miguel        ', 'bebedero          ', 'porozal           ', 'abangares', 'las juntas        ', 'sierra            ', 'san juan          ', 'colorado          ', 'tilarán', 'tilarán           ', 'quebrada grande   ', 'tronadora         ', 'santa rosa        ', 'líbano            ', 'tierras morenas   ', 'arenal            ', 'nandayure', 'carmona           ', 'santa rita        ', 'zapotal           ', 'san pablo         ', 'porvenir          ', 'bejuco            ', 'la cruz', 'la cruz           ', 'santa cecilia     ', 'la garita         ', 'santa elena       ', 'hojancha', 'hojancha          ', 'monte romo', 'puerto carrillo   ', 'huacas            ', 'puntarenas', 'puntarenas', 'puntarenas        ', 'pitahaya          ', 'chomes            ', 'lepanto           ', 'paquera           ', 'manzanillo        ', 'guacimal          ', 'barranca          ', 'monte verde       ', 'cóbano            ', 'chacarita         ', 'chira        ', 'acapulco          ', 'el roble          ', 'arancibia         ', 'esparza', 'espíritu santo    ', 'san juan grande   ', 'macacona          ', 'san rafael        ', 'san jerónimo      ', 'buenos aires', 'buenos aires      ', 'volcán            ', 'potrero grande    ', 'boruca            ', 'pilas            ', 'colinas      ', 'chánguena         ', 'biolley           ', 'brunka            ', 'montes de oro', 'miramar           ', 'la unión          ', 'san isidro        ', 'osa', 'puerto cortés     ', 'palmar            ', 'sierpe            ', 'bahía ballena     ', 'piedras blancas   ', 'aguirre', 'quepos            ', 'savegre           ', 'naranjito         ', 'golfito', 'golfito           ', 'puerto jiménez    ', 'guaycará          ', 'pavón ', 'coto brus', 'san vito          ', 'sabalito          ', 'aguabuena         ', 'limoncito         ', 'pittier           ', 'parrita', 'parrita           ', 'corredores', 'corredor          ', 'la cuesta         ', 'canoas            ', 'laurel            ', 'garabito', 'jacó             ', 'tárcoles          ', 'limón', 'limón', 'limón', 'valle la estrella ', 'río blanco        ', 'matama            ', 'pococí', 'guápiles          ', 'jiménez           ', 'rita             ', 'roxana            ', 'cariari           ', 'colorado          ', 'siquirres', 'siquirres         ', 'pacuarito         ', 'florida           ', 'germania          ', 'el cairo          ', 'alegría        ', 'talamanca', 'bratsi            ', 'sixaola           ', 'cahuita           ', 'telire', 'matina', 'matina            ', 'batán            ', 'carrandi          ', 'guácimo', 'guácimo           ', 'mercedes          ', 'pocora            ', 'río jiménez       ', 'duacarí           ']\n"
     ]
    }
   ],
   "source": [
    "finalDistrits = getNoDuplicateDistrits(oijEstadistics, inecEstadistics)[0]\n",
    "finalDistritsWithoutDuplicates = getNoDuplicateDistrits(oijEstadistics, inecEstadistics)[1]\n",
    "print(finalDistritsWithoutDuplicates)\n",
    "print(\"\\n \\n \\n \\n Si vemos el problema radica en que hay demasiados espacios \\n \\n \")\n",
    "\n",
    "print([x[\"Distrito\"] for x in inecEstadistics.rdd.collect()])"
   ]
  },
  {
   "cell_type": "markdown",
   "id": "d67c1e38",
   "metadata": {},
   "source": [
    "Como se puede apreciar, muchos de estos registros existen dentro de la base del Inec sin embargo, un problema de extraccion de datos genera que los strings, no sean iguales por lo que tendremos que arreglar eso, sin embargo primero crearemos una funcion que nos permita obtener el largo de estás"
   ]
  },
  {
   "cell_type": "markdown",
   "id": "4da33f99",
   "metadata": {},
   "source": [
    "### Cantidad sin coincidencias"
   ]
  },
  {
   "cell_type": "markdown",
   "id": "0f484f1f",
   "metadata": {},
   "source": [
    "Debido a que en el paso pasado creamos una funcion que obtiene esos registros solo basta devolver el largo de estos, tambien devolveremos sin repetidos por ellos usamos una tupla"
   ]
  },
  {
   "cell_type": "code",
   "execution_count": 15,
   "id": "ec1dcefb",
   "metadata": {},
   "outputs": [],
   "source": [
    "def getNoDuplicateDistritsLen():\n",
    "    finalDistrits = getNoDuplicateDistrits(oijEstadistics, inecEstadistics)[0]\n",
    "    finalDistritsWithoutDuplicates = getNoDuplicateDistrits(oijEstadistics, inecEstadistics)[1]\n",
    "    return (len(finalDistrits),len(finalDistritsWithoutDuplicates))\n",
    "    "
   ]
  },
  {
   "cell_type": "code",
   "execution_count": 16,
   "id": "f3246bb3",
   "metadata": {},
   "outputs": [
    {
     "name": "stdout",
     "output_type": "stream",
     "text": [
      "Todos los distritos:  13445\n",
      "Todos los distritos sin replicas:  330\n"
     ]
    }
   ],
   "source": [
    "finalDistritsLen = getNoDuplicateDistritsLen()[0]\n",
    "finalDistritsWithoutDuplicatesLen = getNoDuplicateDistritsLen()[1]\n",
    "\n",
    "print(\"Todos los distritos: \",finalDistritsLen)\n",
    "print(\"Todos los distritos sin replicas: \",finalDistritsWithoutDuplicatesLen)"
   ]
  },
  {
   "cell_type": "markdown",
   "id": "3ebed7f3",
   "metadata": {},
   "source": [
    "Y listo ahora procederemos a arreglar el error en la extracción para poder obtener los datos de manera correcta"
   ]
  },
  {
   "cell_type": "markdown",
   "id": "78683389",
   "metadata": {},
   "source": [
    "### Arreglar problema en la extracción de los datos"
   ]
  },
  {
   "cell_type": "markdown",
   "id": "3f72c422",
   "metadata": {},
   "source": [
    "Debido a los espacios en la columna distrito de los datos del INEC a la hora de realizar nuestro asocie vemos que ingnora gran parte de este para poder solucionar este error, lo que debemos hacer es crear una funcion que reciba el dataframe a arreglar y retorne el dataframe arreglado, y será tan sencillo como ejecutar un trim"
   ]
  },
  {
   "cell_type": "code",
   "execution_count": 17,
   "id": "d4781613",
   "metadata": {
    "scrolled": true
   },
   "outputs": [
    {
     "name": "stdout",
     "output_type": "stream",
     "text": [
      "Todos los distritos:  4556\n",
      "Todos los distritos sin replicas:  117\n"
     ]
    }
   ],
   "source": [
    "def fixStrings(dt):\n",
    "        dt = dt.withColumn('Distrito', trim(inecEstadistics.Distrito)) #Le realizamos un trim a la comlumna distrito\n",
    "        return dt\n",
    "inecEstadistics = fixStrings(inecEstadistics)\n",
    "\n",
    "finalDistrits = getNoDuplicateDistrits(oijEstadistics, inecEstadistics)[0]\n",
    "finalDistritsWithoutDuplicates = getNoDuplicateDistrits(oijEstadistics, inecEstadistics)[1]\n",
    "\n",
    "finalDistritsLen = getNoDuplicateDistritsLen()[0]\n",
    "finalDistritsWithoutDuplicatesLen = getNoDuplicateDistritsLen()[1]\n",
    "\n",
    "print(\"Todos los distritos: \",finalDistritsLen)\n",
    "print(\"Todos los distritos sin replicas: \",finalDistritsWithoutDuplicatesLen)"
   ]
  },
  {
   "cell_type": "markdown",
   "id": "2332e1b7",
   "metadata": {},
   "source": [
    "Como se puede apreciar hemos arreglado el problema pues se ha reducido el numero de manera significativa"
   ]
  },
  {
   "cell_type": "markdown",
   "id": "3c719f3b",
   "metadata": {},
   "source": [
    "## Migrar a Postgres"
   ]
  },
  {
   "cell_type": "code",
   "execution_count": null,
   "id": "786a17f5",
   "metadata": {},
   "outputs": [],
   "source": []
  }
 ],
 "metadata": {
  "kernelspec": {
   "display_name": "Python 3",
   "language": "python",
   "name": "python3"
  },
  "language_info": {
   "codemirror_mode": {
    "name": "ipython",
    "version": 3
   },
   "file_extension": ".py",
   "mimetype": "text/x-python",
   "name": "python",
   "nbconvert_exporter": "python",
   "pygments_lexer": "ipython3",
   "version": "3.8.5"
  }
 },
 "nbformat": 4,
 "nbformat_minor": 5
}
