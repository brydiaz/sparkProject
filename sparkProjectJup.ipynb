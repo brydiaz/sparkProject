{
 "cells": [
  {
   "cell_type": "markdown",
   "id": "3b159750",
   "metadata": {},
   "source": [
    "# Desarrollo del tercer proyecto de bases de datos II: Big Data & Spark"
   ]
  },
  {
   "cell_type": "markdown",
   "id": "bf62ed34",
   "metadata": {},
   "source": [
    "## Imports"
   ]
  },
  {
   "cell_type": "markdown",
   "id": "b00dc532",
   "metadata": {},
   "source": [
    "Para el desarrollo de este proyecto se hará uso de las librerías pandas como auxliar y el framework Spark por lo tanto hacemos los imports y variables de configuracion globales"
   ]
  },
  {
   "cell_type": "code",
   "execution_count": 11,
   "id": "2b208461",
   "metadata": {},
   "outputs": [],
   "source": [
    "import pandas as pd\n",
    "import pyspark"
   ]
  },
  {
   "cell_type": "code",
   "execution_count": 2,
   "id": "4a466097",
   "metadata": {},
   "outputs": [],
   "source": [
    "from pyspark.sql import SparkSession, Row, dataframe"
   ]
  },
  {
   "cell_type": "code",
   "execution_count": 3,
   "id": "b7879caf",
   "metadata": {
    "scrolled": false
   },
   "outputs": [],
   "source": [
    "import findspark\n",
    "SPARK_PATH = '/home/bryan/spark'\n",
    "findspark.init(SPARK_PATH)\n",
    "\n",
    "POSTGRESQL_URL = \"jdbc:postgresql://localhost/\"\n",
    "POSTGRESQL_USER = \"postgres\"\n",
    "POSTGRESQL_PASSWORD = \"root\""
   ]
  },
  {
   "cell_type": "code",
   "execution_count": 4,
   "id": "3c5d953b",
   "metadata": {},
   "outputs": [],
   "source": [
    "def sparkSession():\n",
    "    \"\"\"\n",
    "    This function builds a Spark Session\n",
    "    return the main entry of a Spark DataFrame\n",
    "    \"\"\"\n",
    "    spark = SparkSession \\\n",
    "      .builder \\\n",
    "      .appName(\"Test\") \\\n",
    "      .config(\"spark.driver.extraClassPath\", \"postgresql-42.1.4.jar\") \\\n",
    "      .config(\"spark.executor.extraClassPath\", \"postgresql-42.1.4.jar\") \\\n",
    "      .getOrCreate()\n",
    "    return spark"
   ]
  },
  {
   "cell_type": "code",
   "execution_count": 5,
   "id": "15d5a9df",
   "metadata": {},
   "outputs": [],
   "source": [
    "spark = sparkSession()"
   ]
  },
  {
   "cell_type": "code",
   "execution_count": 6,
   "id": "2f4875de",
   "metadata": {
    "scrolled": false
   },
   "outputs": [
    {
     "name": "stdout",
     "output_type": "stream",
     "text": [
      "<pyspark.sql.session.SparkSession object at 0x7fea3886e3d0>\n"
     ]
    }
   ],
   "source": [
    "print(spark)"
   ]
  },
  {
   "cell_type": "code",
   "execution_count": 49,
   "id": "6e056683",
   "metadata": {
    "scrolled": true
   },
   "outputs": [],
   "source": [
    "df = pd.read_excel('Estadisticas.xlsx', engine='openpyxl')\n",
    "oijEstadistics = spark.createDataFrame(df)\n"
   ]
  },
  {
   "cell_type": "code",
   "execution_count": 50,
   "id": "f4ce35c3",
   "metadata": {
    "scrolled": true
   },
   "outputs": [
    {
     "name": "stdout",
     "output_type": "stream",
     "text": [
      "+------+-----------+----------+-------------------+-----------+--------------------+-------------+------+------------+----------+------------+----------------+\n",
      "|Delito|  SubDelito|     Fecha|               Hora|    Victima|          SubVictima|         Edad|Genero|Nacionalidad| Provincia|      Canton|        Distrito|\n",
      "+------+-----------+----------+-------------------+-----------+--------------------+-------------+------+------------+----------+------------+----------------+\n",
      "|ASALTO|ARMA BLANCA|2021-01-03|06:00:00 - 08:59:59|EDIFICACION|PANADERIA [EDIFIC...|Mayor de edad| MUJER|  COSTA RICA|  ALAJUELA|       UPALA|         BIJAGUA|\n",
      "|ASALTO|ARMA BLANCA|2021-01-02|06:00:00 - 08:59:59|   VIVIENDA|NO APLICA [VIVIENDA]|Mayor de edad| MUJER|  COSTA RICA|     LIMON|       LIMON|          MATAMA|\n",
      "|ASALTO|ARMA BLANCA|2021-01-07|12:00:00 - 14:59:59|    PERSONA|    PEATON [PERSONA]|Mayor de edad| MUJER|  COSTA RICA|  SAN JOSE|    SAN JOSE|        HOSPITAL|\n",
      "|ASALTO|ARMA BLANCA|2021-01-08|03:00:00 - 05:59:59|    PERSONA|OTRO O INDETERMIN...|Mayor de edad|HOMBRE|  COSTA RICA|     LIMON|     GUACIMO|     RIO JIMENEZ|\n",
      "|ASALTO|ARMA BLANCA|2021-01-11|12:00:00 - 14:59:59|   VEHICULO|OTRO O INDETERMIN...|Menor de edad|HOMBRE|  COSTA RICA|  SAN JOSE|    SAN JOSE|   SAN SEBASTIAN|\n",
      "|ASALTO|ARMA BLANCA|2021-01-11|12:00:00 - 14:59:59|    PERSONA|    PEATON [PERSONA]|Mayor de edad|HOMBRE|      ESPANA|PUNTARENAS|         OSA|           DRAKE|\n",
      "|ASALTO|ARMA BLANCA|2021-01-12|21:00:00 - 23:59:59|    PERSONA|    PEATON [PERSONA]|Mayor de edad|HOMBRE|  COSTA RICA|PUNTARENAS|     GOLFITO|        GUAYCARA|\n",
      "|ASALTO|ARMA BLANCA|2021-01-14|06:00:00 - 08:59:59|    PERSONA|    PEATON [PERSONA]|Mayor de edad|HOMBRE|  COSTA RICA|     LIMON|   SIQUIRRES|           CAIRO|\n",
      "|ASALTO|ARMA BLANCA|2021-01-14|06:00:00 - 08:59:59|    PERSONA|    PEATON [PERSONA]|Mayor de edad|HOMBRE|  COSTA RICA|  SAN JOSE|    SAN JOSE|           PAVAS|\n",
      "|ASALTO|ARMA BLANCA|2021-01-15|00:00:00 - 02:59:59|    PERSONA|    PEATON [PERSONA]|Mayor de edad|HOMBRE|  COSTA RICA|  SAN JOSE|    SAN JOSE|        HOSPITAL|\n",
      "|ASALTO|ARMA BLANCA|2021-01-15|18:00:00 - 20:59:59|EDIFICACION|SALA DE BELLEZA [...|Mayor de edad|HOMBRE|   NICARAGUA|GUANACASTE|    CARRILLO|      FILADELFIA|\n",
      "|ASALTO|ARMA BLANCA|2021-01-17|09:00:00 - 11:59:59|    PERSONA|    PEATON [PERSONA]|Mayor de edad| MUJER|  COSTA RICA|  SAN JOSE|    SAN JOSE|        CATEDRAL|\n",
      "|ASALTO|ARMA BLANCA|2021-01-18|21:00:00 - 23:59:59|    PERSONA|    PEATON [PERSONA]|Mayor de edad|HOMBRE|   NICARAGUA|  SAN JOSE|    SAN JOSE|        HOSPITAL|\n",
      "|ASALTO|ARMA BLANCA|2021-01-19|15:00:00 - 17:59:59|    PERSONA|    PEATON [PERSONA]|Mayor de edad| MUJER|  COSTA RICA|  SAN JOSE|  GOICOECHEA|   SAN FRANCISCO|\n",
      "|ASALTO|ARMA BLANCA|2021-01-19|18:00:00 - 20:59:59|    PERSONA|    PEATON [PERSONA]|Mayor de edad| MUJER|  COSTA RICA|  SAN JOSE|DESAMPARADOS|SAN RAFAEL ABAJO|\n",
      "|ASALTO|ARMA BLANCA|2021-01-22|03:00:00 - 05:59:59|    PERSONA|    PEATON [PERSONA]|Mayor de edad|HOMBRE|   NICARAGUA|  SAN JOSE|  GOICOECHEA|   SAN FRANCISCO|\n",
      "|ASALTO|ARMA BLANCA|2021-01-23|06:00:00 - 08:59:59|    PERSONA|    PEATON [PERSONA]|Mayor de edad|HOMBRE|  COSTA RICA|  SAN JOSE|DESAMPARADOS|    DESAMPARADOS|\n",
      "|ASALTO|ARMA BLANCA|2021-01-27|18:00:00 - 20:59:59|    PERSONA|OTRO O INDETERMIN...|Mayor de edad|HOMBRE|  COSTA RICA|PUNTARENAS|  PUNTARENAS|          COBANO|\n",
      "|ASALTO|ARMA BLANCA|2021-01-15|12:00:00 - 14:59:59|    PERSONA|    PEATON [PERSONA]|Mayor de edad|HOMBRE|  COSTA RICA|  SAN JOSE|    SAN JOSE|        HOSPITAL|\n",
      "|ASALTO|ARMA BLANCA|2021-02-05|18:00:00 - 20:59:59|EDIFICACION|FARMACIA [EDIFICA...|Mayor de edad| MUJER|  COSTA RICA|   CARTAGO|    OREAMUNO|      SAN RAFAEL|\n",
      "+------+-----------+----------+-------------------+-----------+--------------------+-------------+------+------------+----------+------------+----------------+\n",
      "only showing top 20 rows\n",
      "\n"
     ]
    }
   ],
   "source": [
    "oijEstadistics.show()"
   ]
  }
 ],
 "metadata": {
  "kernelspec": {
   "display_name": "Python 3",
   "language": "python",
   "name": "python3"
  },
  "language_info": {
   "codemirror_mode": {
    "name": "ipython",
    "version": 3
   },
   "file_extension": ".py",
   "mimetype": "text/x-python",
   "name": "python",
   "nbconvert_exporter": "python",
   "pygments_lexer": "ipython3",
   "version": "3.8.5"
  }
 },
 "nbformat": 4,
 "nbformat_minor": 5
}
